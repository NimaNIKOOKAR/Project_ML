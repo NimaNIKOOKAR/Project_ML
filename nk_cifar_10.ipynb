{
 "cells": [
  {
   "cell_type": "markdown",
   "metadata": {},
   "source": [
    "### Sélection des données :\n",
    "1. Trouver un jeu de données contenant au moins 5000 instances et 20\n",
    "caractéris7ques (catégorielles, dates, numériques).\n",
    "2. Le jeu de données doit être validé par l’enseignante avant son utilisation."
   ]
  },
  {
   "cell_type": "markdown",
   "metadata": {},
   "source": []
  },
  {
   "cell_type": "code",
   "execution_count": null,
   "metadata": {},
   "outputs": [],
   "source": []
  },
  {
   "cell_type": "code",
   "execution_count": 2,
   "metadata": {},
   "outputs": [],
   "source": [
    "from tensorflow.keras.datasets import cifar10\n",
    "from sklearn.ensemble import RandomForestClassifier\n",
    "from sklearn.model_selection import GridSearchCV\n",
    "from sklearn.metrics import confusion_matrix\n",
    "from sklearn.metrics import accuracy_score, precision_score, recall_score, f1_score\n",
    "from mlflow.models import infer_signature\n",
    "import pandas as pd\n",
    "import numpy as np\n",
    "import matplotlib.pyplot as plt\n",
    "import seaborn as sns\n",
    "from skimage.feature import hog\n",
    "from skimage import color, exposure\n",
    "from sklearn.model_selection import GridSearchCV\n",
    "from sklearn.svm import SVC\n",
    "from sklearn.preprocessing import StandardScaler\n",
    "from sklearn.metrics import accuracy_score, precision_score, recall_score, f1_score\n",
    "from sklearn.pipeline import Pipeline\n",
    "import numpy as np\n",
    "import tensorflow as tf\n",
    "import mlflow\n",
    "import mlflow.sklearn\n",
    "from sklearn.decomposition import PCA"
   ]
  },
  {
   "cell_type": "code",
   "execution_count": null,
   "metadata": {},
   "outputs": [],
   "source": [
    "\n",
    "(x_train, y_train), (x_test, y_test) = cifar10.load_data()"
   ]
  },
  {
   "cell_type": "code",
   "execution_count": 4,
   "metadata": {},
   "outputs": [],
   "source": [
    "subset_size_train = 5000\n",
    "subset_size_test = 2000\n",
    "indices_train = np.random.choice(x_train.shape[0], subset_size_train, replace=False)\n",
    "indices_test = np.random.choice(x_test.shape[0], subset_size_test, replace=False)\n",
    "x_train_subset = x_train[indices_train]\n",
    "y_train_subset = y_train[indices_train]\n",
    "x_test_subset = x_test[indices_test]\n",
    "y_test_subset = y_test[indices_test]\n"
   ]
  },
  {
   "cell_type": "code",
   "execution_count": 5,
   "metadata": {},
   "outputs": [
    {
     "data": {
      "text/plain": [
       "(5000, 32, 32, 3)"
      ]
     },
     "execution_count": 5,
     "metadata": {},
     "output_type": "execute_result"
    }
   ],
   "source": [
    "x_train_subset.shape"
   ]
  },
  {
   "cell_type": "code",
   "execution_count": 6,
   "metadata": {},
   "outputs": [],
   "source": [
    "\n",
    "x_train_flat = x_train_subset.reshape(x_train_subset.shape[0], -1) / 255.0\n",
    "x_test_flat = x_test_subset.reshape(x_test_subset.shape[0], -1) / 255.0"
   ]
  },
  {
   "cell_type": "code",
   "execution_count": 7,
   "metadata": {},
   "outputs": [
    {
     "name": "stdout",
     "output_type": "stream",
     "text": [
      "Missing values in training data: 0\n",
      "Missing values in test data: 0\n"
     ]
    }
   ],
   "source": [
    "print(f\"Missing values in training data: {np.isnan(x_train_flat).sum()}\")\n",
    "print(f\"Missing values in test data: {np.isnan(x_test_flat).sum()}\")\n"
   ]
  },
  {
   "cell_type": "code",
   "execution_count": 11,
   "metadata": {},
   "outputs": [
    {
     "data": {
      "text/html": [
       "<style>#sk-container-id-1 {\n",
       "  /* Definition of color scheme common for light and dark mode */\n",
       "  --sklearn-color-text: black;\n",
       "  --sklearn-color-line: gray;\n",
       "  /* Definition of color scheme for unfitted estimators */\n",
       "  --sklearn-color-unfitted-level-0: #fff5e6;\n",
       "  --sklearn-color-unfitted-level-1: #f6e4d2;\n",
       "  --sklearn-color-unfitted-level-2: #ffe0b3;\n",
       "  --sklearn-color-unfitted-level-3: chocolate;\n",
       "  /* Definition of color scheme for fitted estimators */\n",
       "  --sklearn-color-fitted-level-0: #f0f8ff;\n",
       "  --sklearn-color-fitted-level-1: #d4ebff;\n",
       "  --sklearn-color-fitted-level-2: #b3dbfd;\n",
       "  --sklearn-color-fitted-level-3: cornflowerblue;\n",
       "\n",
       "  /* Specific color for light theme */\n",
       "  --sklearn-color-text-on-default-background: var(--sg-text-color, var(--theme-code-foreground, var(--jp-content-font-color1, black)));\n",
       "  --sklearn-color-background: var(--sg-background-color, var(--theme-background, var(--jp-layout-color0, white)));\n",
       "  --sklearn-color-border-box: var(--sg-text-color, var(--theme-code-foreground, var(--jp-content-font-color1, black)));\n",
       "  --sklearn-color-icon: #696969;\n",
       "\n",
       "  @media (prefers-color-scheme: dark) {\n",
       "    /* Redefinition of color scheme for dark theme */\n",
       "    --sklearn-color-text-on-default-background: var(--sg-text-color, var(--theme-code-foreground, var(--jp-content-font-color1, white)));\n",
       "    --sklearn-color-background: var(--sg-background-color, var(--theme-background, var(--jp-layout-color0, #111)));\n",
       "    --sklearn-color-border-box: var(--sg-text-color, var(--theme-code-foreground, var(--jp-content-font-color1, white)));\n",
       "    --sklearn-color-icon: #878787;\n",
       "  }\n",
       "}\n",
       "\n",
       "#sk-container-id-1 {\n",
       "  color: var(--sklearn-color-text);\n",
       "}\n",
       "\n",
       "#sk-container-id-1 pre {\n",
       "  padding: 0;\n",
       "}\n",
       "\n",
       "#sk-container-id-1 input.sk-hidden--visually {\n",
       "  border: 0;\n",
       "  clip: rect(1px 1px 1px 1px);\n",
       "  clip: rect(1px, 1px, 1px, 1px);\n",
       "  height: 1px;\n",
       "  margin: -1px;\n",
       "  overflow: hidden;\n",
       "  padding: 0;\n",
       "  position: absolute;\n",
       "  width: 1px;\n",
       "}\n",
       "\n",
       "#sk-container-id-1 div.sk-dashed-wrapped {\n",
       "  border: 1px dashed var(--sklearn-color-line);\n",
       "  margin: 0 0.4em 0.5em 0.4em;\n",
       "  box-sizing: border-box;\n",
       "  padding-bottom: 0.4em;\n",
       "  background-color: var(--sklearn-color-background);\n",
       "}\n",
       "\n",
       "#sk-container-id-1 div.sk-container {\n",
       "  /* jupyter's `normalize.less` sets `[hidden] { display: none; }`\n",
       "     but bootstrap.min.css set `[hidden] { display: none !important; }`\n",
       "     so we also need the `!important` here to be able to override the\n",
       "     default hidden behavior on the sphinx rendered scikit-learn.org.\n",
       "     See: https://github.com/scikit-learn/scikit-learn/issues/21755 */\n",
       "  display: inline-block !important;\n",
       "  position: relative;\n",
       "}\n",
       "\n",
       "#sk-container-id-1 div.sk-text-repr-fallback {\n",
       "  display: none;\n",
       "}\n",
       "\n",
       "div.sk-parallel-item,\n",
       "div.sk-serial,\n",
       "div.sk-item {\n",
       "  /* draw centered vertical line to link estimators */\n",
       "  background-image: linear-gradient(var(--sklearn-color-text-on-default-background), var(--sklearn-color-text-on-default-background));\n",
       "  background-size: 2px 100%;\n",
       "  background-repeat: no-repeat;\n",
       "  background-position: center center;\n",
       "}\n",
       "\n",
       "/* Parallel-specific style estimator block */\n",
       "\n",
       "#sk-container-id-1 div.sk-parallel-item::after {\n",
       "  content: \"\";\n",
       "  width: 100%;\n",
       "  border-bottom: 2px solid var(--sklearn-color-text-on-default-background);\n",
       "  flex-grow: 1;\n",
       "}\n",
       "\n",
       "#sk-container-id-1 div.sk-parallel {\n",
       "  display: flex;\n",
       "  align-items: stretch;\n",
       "  justify-content: center;\n",
       "  background-color: var(--sklearn-color-background);\n",
       "  position: relative;\n",
       "}\n",
       "\n",
       "#sk-container-id-1 div.sk-parallel-item {\n",
       "  display: flex;\n",
       "  flex-direction: column;\n",
       "}\n",
       "\n",
       "#sk-container-id-1 div.sk-parallel-item:first-child::after {\n",
       "  align-self: flex-end;\n",
       "  width: 50%;\n",
       "}\n",
       "\n",
       "#sk-container-id-1 div.sk-parallel-item:last-child::after {\n",
       "  align-self: flex-start;\n",
       "  width: 50%;\n",
       "}\n",
       "\n",
       "#sk-container-id-1 div.sk-parallel-item:only-child::after {\n",
       "  width: 0;\n",
       "}\n",
       "\n",
       "/* Serial-specific style estimator block */\n",
       "\n",
       "#sk-container-id-1 div.sk-serial {\n",
       "  display: flex;\n",
       "  flex-direction: column;\n",
       "  align-items: center;\n",
       "  background-color: var(--sklearn-color-background);\n",
       "  padding-right: 1em;\n",
       "  padding-left: 1em;\n",
       "}\n",
       "\n",
       "\n",
       "/* Toggleable style: style used for estimator/Pipeline/ColumnTransformer box that is\n",
       "clickable and can be expanded/collapsed.\n",
       "- Pipeline and ColumnTransformer use this feature and define the default style\n",
       "- Estimators will overwrite some part of the style using the `sk-estimator` class\n",
       "*/\n",
       "\n",
       "/* Pipeline and ColumnTransformer style (default) */\n",
       "\n",
       "#sk-container-id-1 div.sk-toggleable {\n",
       "  /* Default theme specific background. It is overwritten whether we have a\n",
       "  specific estimator or a Pipeline/ColumnTransformer */\n",
       "  background-color: var(--sklearn-color-background);\n",
       "}\n",
       "\n",
       "/* Toggleable label */\n",
       "#sk-container-id-1 label.sk-toggleable__label {\n",
       "  cursor: pointer;\n",
       "  display: block;\n",
       "  width: 100%;\n",
       "  margin-bottom: 0;\n",
       "  padding: 0.5em;\n",
       "  box-sizing: border-box;\n",
       "  text-align: center;\n",
       "}\n",
       "\n",
       "#sk-container-id-1 label.sk-toggleable__label-arrow:before {\n",
       "  /* Arrow on the left of the label */\n",
       "  content: \"▸\";\n",
       "  float: left;\n",
       "  margin-right: 0.25em;\n",
       "  color: var(--sklearn-color-icon);\n",
       "}\n",
       "\n",
       "#sk-container-id-1 label.sk-toggleable__label-arrow:hover:before {\n",
       "  color: var(--sklearn-color-text);\n",
       "}\n",
       "\n",
       "/* Toggleable content - dropdown */\n",
       "\n",
       "#sk-container-id-1 div.sk-toggleable__content {\n",
       "  max-height: 0;\n",
       "  max-width: 0;\n",
       "  overflow: hidden;\n",
       "  text-align: left;\n",
       "  /* unfitted */\n",
       "  background-color: var(--sklearn-color-unfitted-level-0);\n",
       "}\n",
       "\n",
       "#sk-container-id-1 div.sk-toggleable__content.fitted {\n",
       "  /* fitted */\n",
       "  background-color: var(--sklearn-color-fitted-level-0);\n",
       "}\n",
       "\n",
       "#sk-container-id-1 div.sk-toggleable__content pre {\n",
       "  margin: 0.2em;\n",
       "  border-radius: 0.25em;\n",
       "  color: var(--sklearn-color-text);\n",
       "  /* unfitted */\n",
       "  background-color: var(--sklearn-color-unfitted-level-0);\n",
       "}\n",
       "\n",
       "#sk-container-id-1 div.sk-toggleable__content.fitted pre {\n",
       "  /* unfitted */\n",
       "  background-color: var(--sklearn-color-fitted-level-0);\n",
       "}\n",
       "\n",
       "#sk-container-id-1 input.sk-toggleable__control:checked~div.sk-toggleable__content {\n",
       "  /* Expand drop-down */\n",
       "  max-height: 200px;\n",
       "  max-width: 100%;\n",
       "  overflow: auto;\n",
       "}\n",
       "\n",
       "#sk-container-id-1 input.sk-toggleable__control:checked~label.sk-toggleable__label-arrow:before {\n",
       "  content: \"▾\";\n",
       "}\n",
       "\n",
       "/* Pipeline/ColumnTransformer-specific style */\n",
       "\n",
       "#sk-container-id-1 div.sk-label input.sk-toggleable__control:checked~label.sk-toggleable__label {\n",
       "  color: var(--sklearn-color-text);\n",
       "  background-color: var(--sklearn-color-unfitted-level-2);\n",
       "}\n",
       "\n",
       "#sk-container-id-1 div.sk-label.fitted input.sk-toggleable__control:checked~label.sk-toggleable__label {\n",
       "  background-color: var(--sklearn-color-fitted-level-2);\n",
       "}\n",
       "\n",
       "/* Estimator-specific style */\n",
       "\n",
       "/* Colorize estimator box */\n",
       "#sk-container-id-1 div.sk-estimator input.sk-toggleable__control:checked~label.sk-toggleable__label {\n",
       "  /* unfitted */\n",
       "  background-color: var(--sklearn-color-unfitted-level-2);\n",
       "}\n",
       "\n",
       "#sk-container-id-1 div.sk-estimator.fitted input.sk-toggleable__control:checked~label.sk-toggleable__label {\n",
       "  /* fitted */\n",
       "  background-color: var(--sklearn-color-fitted-level-2);\n",
       "}\n",
       "\n",
       "#sk-container-id-1 div.sk-label label.sk-toggleable__label,\n",
       "#sk-container-id-1 div.sk-label label {\n",
       "  /* The background is the default theme color */\n",
       "  color: var(--sklearn-color-text-on-default-background);\n",
       "}\n",
       "\n",
       "/* On hover, darken the color of the background */\n",
       "#sk-container-id-1 div.sk-label:hover label.sk-toggleable__label {\n",
       "  color: var(--sklearn-color-text);\n",
       "  background-color: var(--sklearn-color-unfitted-level-2);\n",
       "}\n",
       "\n",
       "/* Label box, darken color on hover, fitted */\n",
       "#sk-container-id-1 div.sk-label.fitted:hover label.sk-toggleable__label.fitted {\n",
       "  color: var(--sklearn-color-text);\n",
       "  background-color: var(--sklearn-color-fitted-level-2);\n",
       "}\n",
       "\n",
       "/* Estimator label */\n",
       "\n",
       "#sk-container-id-1 div.sk-label label {\n",
       "  font-family: monospace;\n",
       "  font-weight: bold;\n",
       "  display: inline-block;\n",
       "  line-height: 1.2em;\n",
       "}\n",
       "\n",
       "#sk-container-id-1 div.sk-label-container {\n",
       "  text-align: center;\n",
       "}\n",
       "\n",
       "/* Estimator-specific */\n",
       "#sk-container-id-1 div.sk-estimator {\n",
       "  font-family: monospace;\n",
       "  border: 1px dotted var(--sklearn-color-border-box);\n",
       "  border-radius: 0.25em;\n",
       "  box-sizing: border-box;\n",
       "  margin-bottom: 0.5em;\n",
       "  /* unfitted */\n",
       "  background-color: var(--sklearn-color-unfitted-level-0);\n",
       "}\n",
       "\n",
       "#sk-container-id-1 div.sk-estimator.fitted {\n",
       "  /* fitted */\n",
       "  background-color: var(--sklearn-color-fitted-level-0);\n",
       "}\n",
       "\n",
       "/* on hover */\n",
       "#sk-container-id-1 div.sk-estimator:hover {\n",
       "  /* unfitted */\n",
       "  background-color: var(--sklearn-color-unfitted-level-2);\n",
       "}\n",
       "\n",
       "#sk-container-id-1 div.sk-estimator.fitted:hover {\n",
       "  /* fitted */\n",
       "  background-color: var(--sklearn-color-fitted-level-2);\n",
       "}\n",
       "\n",
       "/* Specification for estimator info (e.g. \"i\" and \"?\") */\n",
       "\n",
       "/* Common style for \"i\" and \"?\" */\n",
       "\n",
       ".sk-estimator-doc-link,\n",
       "a:link.sk-estimator-doc-link,\n",
       "a:visited.sk-estimator-doc-link {\n",
       "  float: right;\n",
       "  font-size: smaller;\n",
       "  line-height: 1em;\n",
       "  font-family: monospace;\n",
       "  background-color: var(--sklearn-color-background);\n",
       "  border-radius: 1em;\n",
       "  height: 1em;\n",
       "  width: 1em;\n",
       "  text-decoration: none !important;\n",
       "  margin-left: 1ex;\n",
       "  /* unfitted */\n",
       "  border: var(--sklearn-color-unfitted-level-1) 1pt solid;\n",
       "  color: var(--sklearn-color-unfitted-level-1);\n",
       "}\n",
       "\n",
       ".sk-estimator-doc-link.fitted,\n",
       "a:link.sk-estimator-doc-link.fitted,\n",
       "a:visited.sk-estimator-doc-link.fitted {\n",
       "  /* fitted */\n",
       "  border: var(--sklearn-color-fitted-level-1) 1pt solid;\n",
       "  color: var(--sklearn-color-fitted-level-1);\n",
       "}\n",
       "\n",
       "/* On hover */\n",
       "div.sk-estimator:hover .sk-estimator-doc-link:hover,\n",
       ".sk-estimator-doc-link:hover,\n",
       "div.sk-label-container:hover .sk-estimator-doc-link:hover,\n",
       ".sk-estimator-doc-link:hover {\n",
       "  /* unfitted */\n",
       "  background-color: var(--sklearn-color-unfitted-level-3);\n",
       "  color: var(--sklearn-color-background);\n",
       "  text-decoration: none;\n",
       "}\n",
       "\n",
       "div.sk-estimator.fitted:hover .sk-estimator-doc-link.fitted:hover,\n",
       ".sk-estimator-doc-link.fitted:hover,\n",
       "div.sk-label-container:hover .sk-estimator-doc-link.fitted:hover,\n",
       ".sk-estimator-doc-link.fitted:hover {\n",
       "  /* fitted */\n",
       "  background-color: var(--sklearn-color-fitted-level-3);\n",
       "  color: var(--sklearn-color-background);\n",
       "  text-decoration: none;\n",
       "}\n",
       "\n",
       "/* Span, style for the box shown on hovering the info icon */\n",
       ".sk-estimator-doc-link span {\n",
       "  display: none;\n",
       "  z-index: 9999;\n",
       "  position: relative;\n",
       "  font-weight: normal;\n",
       "  right: .2ex;\n",
       "  padding: .5ex;\n",
       "  margin: .5ex;\n",
       "  width: min-content;\n",
       "  min-width: 20ex;\n",
       "  max-width: 50ex;\n",
       "  color: var(--sklearn-color-text);\n",
       "  box-shadow: 2pt 2pt 4pt #999;\n",
       "  /* unfitted */\n",
       "  background: var(--sklearn-color-unfitted-level-0);\n",
       "  border: .5pt solid var(--sklearn-color-unfitted-level-3);\n",
       "}\n",
       "\n",
       ".sk-estimator-doc-link.fitted span {\n",
       "  /* fitted */\n",
       "  background: var(--sklearn-color-fitted-level-0);\n",
       "  border: var(--sklearn-color-fitted-level-3);\n",
       "}\n",
       "\n",
       ".sk-estimator-doc-link:hover span {\n",
       "  display: block;\n",
       "}\n",
       "\n",
       "/* \"?\"-specific style due to the `<a>` HTML tag */\n",
       "\n",
       "#sk-container-id-1 a.estimator_doc_link {\n",
       "  float: right;\n",
       "  font-size: 1rem;\n",
       "  line-height: 1em;\n",
       "  font-family: monospace;\n",
       "  background-color: var(--sklearn-color-background);\n",
       "  border-radius: 1rem;\n",
       "  height: 1rem;\n",
       "  width: 1rem;\n",
       "  text-decoration: none;\n",
       "  /* unfitted */\n",
       "  color: var(--sklearn-color-unfitted-level-1);\n",
       "  border: var(--sklearn-color-unfitted-level-1) 1pt solid;\n",
       "}\n",
       "\n",
       "#sk-container-id-1 a.estimator_doc_link.fitted {\n",
       "  /* fitted */\n",
       "  border: var(--sklearn-color-fitted-level-1) 1pt solid;\n",
       "  color: var(--sklearn-color-fitted-level-1);\n",
       "}\n",
       "\n",
       "/* On hover */\n",
       "#sk-container-id-1 a.estimator_doc_link:hover {\n",
       "  /* unfitted */\n",
       "  background-color: var(--sklearn-color-unfitted-level-3);\n",
       "  color: var(--sklearn-color-background);\n",
       "  text-decoration: none;\n",
       "}\n",
       "\n",
       "#sk-container-id-1 a.estimator_doc_link.fitted:hover {\n",
       "  /* fitted */\n",
       "  background-color: var(--sklearn-color-fitted-level-3);\n",
       "}\n",
       "</style><div id=\"sk-container-id-1\" class=\"sk-top-container\"><div class=\"sk-text-repr-fallback\"><pre>RandomForestClassifier(random_state=42)</pre><b>In a Jupyter environment, please rerun this cell to show the HTML representation or trust the notebook. <br />On GitHub, the HTML representation is unable to render, please try loading this page with nbviewer.org.</b></div><div class=\"sk-container\" hidden><div class=\"sk-item\"><div class=\"sk-estimator fitted sk-toggleable\"><input class=\"sk-toggleable__control sk-hidden--visually\" id=\"sk-estimator-id-1\" type=\"checkbox\" checked><label for=\"sk-estimator-id-1\" class=\"sk-toggleable__label fitted sk-toggleable__label-arrow fitted\">&nbsp;&nbsp;RandomForestClassifier<a class=\"sk-estimator-doc-link fitted\" rel=\"noreferrer\" target=\"_blank\" href=\"https://scikit-learn.org/1.5/modules/generated/sklearn.ensemble.RandomForestClassifier.html\">?<span>Documentation for RandomForestClassifier</span></a><span class=\"sk-estimator-doc-link fitted\">i<span>Fitted</span></span></label><div class=\"sk-toggleable__content fitted\"><pre>RandomForestClassifier(random_state=42)</pre></div> </div></div></div></div>"
      ],
      "text/plain": [
       "RandomForestClassifier(random_state=42)"
      ]
     },
     "execution_count": 11,
     "metadata": {},
     "output_type": "execute_result"
    }
   ],
   "source": [
    "rf = RandomForestClassifier(random_state=42)\n",
    "rf.fit(x_train_flat, y_train_subset.ravel())"
   ]
  },
  {
   "cell_type": "code",
   "execution_count": 12,
   "metadata": {},
   "outputs": [
    {
     "name": "stdout",
     "output_type": "stream",
     "text": [
      "         Feature  Importance\n",
      "107    pixel_107    0.001780\n",
      "200    pixel_200    0.001622\n",
      "5        pixel_5    0.001143\n",
      "83      pixel_83    0.001101\n",
      "71      pixel_71    0.000986\n",
      "2425  pixel_2425    0.000928\n",
      "2431  pixel_2431    0.000927\n",
      "260    pixel_260    0.000900\n",
      "2428  pixel_2428    0.000885\n",
      "182    pixel_182    0.000882\n",
      "1499  pixel_1499    0.000873\n",
      "203    pixel_203    0.000871\n",
      "95      pixel_95    0.000870\n",
      "104    pixel_104    0.000859\n",
      "14      pixel_14    0.000854\n",
      "263    pixel_263    0.000852\n",
      "23      pixel_23    0.000804\n",
      "101    pixel_101    0.000798\n",
      "917    pixel_917    0.000795\n",
      "89      pixel_89    0.000791\n"
     ]
    }
   ],
   "source": [
    "feature_importances = rf.feature_importances_\n",
    "feature_df = pd.DataFrame({\n",
    "    \"Feature\": [f\"pixel_{i}\" for i in range(len(feature_importances))],\n",
    "    \"Importance\": feature_importances\n",
    "}).sort_values(by=\"Importance\", ascending=False)\n",
    "\n",
    "print(feature_df.head(20))"
   ]
  },
  {
   "cell_type": "code",
   "execution_count": 13,
   "metadata": {},
   "outputs": [
    {
     "name": "stdout",
     "output_type": "stream",
     "text": [
      "Reduced training shape: (5000, 500), Reduced test shape: (2000, 500)\n"
     ]
    }
   ],
   "source": [
    "top_features = feature_df.index[:500]  \n",
    "x_train_top = x_train_flat[:, top_features]\n",
    "x_test_top = x_test_flat[:, top_features]\n",
    "print(f\"Reduced training shape: {x_train_top.shape}, Reduced test shape: {x_test_top.shape}\")"
   ]
  },
  {
   "cell_type": "code",
   "execution_count": 12,
   "metadata": {},
   "outputs": [
    {
     "name": "stdout",
     "output_type": "stream",
     "text": [
      "Best parameters: {'max_depth': None, 'min_samples_leaf': 1, 'min_samples_split': 5, 'n_estimators': 200}\n",
      "Best cross-validated accuracy: 0.38620271143850465\n"
     ]
    }
   ],
   "source": [
    "param_grid = {\n",
    "    'n_estimators': [50, 100, 200],\n",
    "    'max_depth': [None, 10, 20],\n",
    "    'min_samples_split': [2, 5],\n",
    "    'min_samples_leaf': [1, 2]\n",
    "}\n",
    "rf = RandomForestClassifier(random_state=42)\n",
    "grid_rf = GridSearchCV(estimator=rf, param_grid=param_grid, cv=3, scoring='accuracy', n_jobs=-1)\n",
    "grid_rf.fit(x_train_top, y_train_subset.ravel())\n",
    "\n",
    "\n",
    "print(f\"Best parameters: {grid_rf.best_params_}\")\n",
    "print(f\"Best cross-validated accuracy: {grid_rf.best_score_}\")\n"
   ]
  },
  {
   "cell_type": "code",
   "execution_count": 11,
   "metadata": {},
   "outputs": [
    {
     "name": "stdout",
     "output_type": "stream",
     "text": [
      "Best parameters: {'max_depth': 30, 'min_samples_leaf': 2, 'min_samples_split': 5, 'n_estimators': 500}\n",
      "Best cross-validated accuracy: 0.40400167265466475\n"
     ]
    }
   ],
   "source": [
    "param_grid = {\n",
    "    'n_estimators': [300, 500],\n",
    "    'max_depth': [None, 10, 20 , 30],\n",
    "    'min_samples_split': [2, 5 , 10],\n",
    "    'min_samples_leaf': [1, 2 , 4]\n",
    "}\n",
    "rf = RandomForestClassifier(random_state=42)\n",
    "grid_rf = GridSearchCV(estimator=rf, param_grid=param_grid, cv=3, scoring='accuracy', n_jobs=-1)\n",
    "grid_rf.fit(x_train_top, y_train_subset.ravel())\n",
    "\n",
    "\n",
    "print(f\"Best parameters: {grid_rf.best_params_}\")\n",
    "print(f\"Best cross-validated accuracy: {grid_rf.best_score_}\")"
   ]
  },
  {
   "cell_type": "code",
   "execution_count": 13,
   "metadata": {},
   "outputs": [],
   "source": [
    "best_rf = grid_rf.best_estimator_\n",
    "y_pred = best_rf.predict(x_test_top)\n",
    "cm = confusion_matrix(y_test_subset.ravel(), y_pred)\n",
    "\n"
   ]
  },
  {
   "cell_type": "code",
   "execution_count": 14,
   "metadata": {},
   "outputs": [
    {
     "data": {
      "image/png": "[encoded data removed]",
      "text/plain": [
       "<Figure size 1000x700 with 2 Axes>"
      ]
     },
     "metadata": {},
     "output_type": "display_data"
    }
   ],
   "source": [
    "plt.figure(figsize=(10, 7))\n",
    "sns.heatmap(cm, annot=True, fmt='d', cmap='Blues', xticklabels=range(10), yticklabels=range(10))\n",
    "plt.xlabel(\"Predicted\")\n",
    "plt.ylabel(\"True\")\n",
    "plt.title(\"Confusion Matrix\")\n",
    "plt.show()"
   ]
  },
  {
   "cell_type": "code",
   "execution_count": 15,
   "metadata": {},
   "outputs": [
    {
     "name": "stdout",
     "output_type": "stream",
     "text": [
      "              precision    recall  f1-score   support\n",
      "\n",
      "           0       0.50      0.50      0.50       212\n",
      "           1       0.44      0.45      0.44       189\n",
      "           2       0.33      0.19      0.25       201\n",
      "           3       0.29      0.20      0.24       199\n",
      "           4       0.37      0.48      0.41       204\n",
      "           5       0.32      0.31      0.32       190\n",
      "           6       0.36      0.52      0.43       185\n",
      "           7       0.53      0.38      0.44       213\n",
      "           8       0.45      0.52      0.48       201\n",
      "           9       0.42      0.46      0.44       206\n",
      "\n",
      "    accuracy                           0.40      2000\n",
      "   macro avg       0.40      0.40      0.39      2000\n",
      "weighted avg       0.40      0.40      0.40      2000\n",
      "\n"
     ]
    }
   ],
   "source": [
    "from sklearn.metrics import confusion_matrix, classification_report, roc_auc_score\n",
    "\n",
    "print(classification_report(y_test_subset.ravel(), y_pred))"
   ]
  },
  {
   "cell_type": "code",
   "execution_count": null,
   "metadata": {},
   "outputs": [
    {
     "name": "stdout",
     "output_type": "stream",
     "text": [
      "Multiclass AUC (OvR): 0.8209\n"
     ]
    }
   ],
   "source": [
    "\n",
    "y_pred_proba = best_rf.predict_proba(x_test_top)\n",
    "auc_score = roc_auc_score(y_test_subset, y_pred_proba, multi_class='ovr')\n",
    "print(f\"Multiclass AUC (OvR): {auc_score:.4f}\")"
   ]
  },
  {
   "cell_type": "code",
   "execution_count": 30,
   "metadata": {},
   "outputs": [],
   "source": [
    "mlflow.set_tracking_uri(\"http://localhost:5000\")"
   ]
  },
  {
   "cell_type": "markdown",
   "metadata": {},
   "source": [
    "## CNN"
   ]
  },
  {
   "cell_type": "code",
   "execution_count": null,
   "metadata": {},
   "outputs": [
    {
     "name": "stdout",
     "output_type": "stream",
     "text": [
      "Epoch 1/2\n",
      "  6/125 [>.............................] - ETA: 13s - loss: 2.7163 - accuracy: 0.1823WARNING:tensorflow:Callback method `on_train_batch_end` is slow compared to the batch time (batch time: 0.1162s vs `on_train_batch_end` time: 0.1194s). Check your callbacks.\n"
     ]
    },
    {
     "name": "stderr",
     "output_type": "stream",
     "text": [
      "WARNING:tensorflow:Callback method `on_train_batch_end` is slow compared to the batch time (batch time: 0.1162s vs `on_train_batch_end` time: 0.1194s). Check your callbacks.\n"
     ]
    },
    {
     "name": "stdout",
     "output_type": "stream",
     "text": [
      "125/125 [==============================] - 21s 148ms/step - loss: 2.3971 - accuracy: 0.2758 - val_loss: 2.9239 - val_accuracy: 0.1550\n",
      "Epoch 2/2\n",
      "125/125 [==============================] - 18s 141ms/step - loss: 1.6968 - accuracy: 0.3947 - val_loss: 2.0583 - val_accuracy: 0.3830\n",
      "1/1 [==============================] - 0s 264ms/step\n"
     ]
    },
    {
     "name": "stderr",
     "output_type": "stream",
     "text": [
      "WARNING:absl:Found untraced functions such as _jit_compiled_convolution_op, _jit_compiled_convolution_op, _jit_compiled_convolution_op, _jit_compiled_convolution_op, _jit_compiled_convolution_op while saving (showing 5 of 8). These functions will not be directly callable after loading.\n"
     ]
    },
    {
     "name": "stdout",
     "output_type": "stream",
     "text": [
      "INFO:tensorflow:Assets written to: C:\\Users\\niman\\AppData\\Local\\Temp\\tmpzkwxkq_7\\model\\data\\model\\assets\n"
     ]
    },
    {
     "name": "stderr",
     "output_type": "stream",
     "text": [
      "INFO:tensorflow:Assets written to: C:\\Users\\niman\\AppData\\Local\\Temp\\tmpzkwxkq_7\\model\\data\\model\\assets\n"
     ]
    },
    {
     "name": "stdout",
     "output_type": "stream",
     "text": [
      "63/63 [==============================] - 3s 41ms/step\n",
      "Classification Report:\n",
      "              precision    recall  f1-score   support\n",
      "\n",
      "    Airplane       0.39      0.28      0.32       186\n",
      "  Automobile       0.37      0.75      0.50       190\n",
      "        Bird       0.51      0.14      0.22       243\n",
      "         Cat       0.33      0.20      0.25       207\n",
      "        Deer       0.40      0.08      0.13       202\n",
      "         Dog       0.37      0.36      0.36       180\n",
      "        Frog       0.30      0.70      0.42       183\n",
      "       Horse       0.58      0.35      0.43       220\n",
      "        Ship       0.41      0.64      0.50       194\n",
      "       Truck       0.31      0.34      0.33       195\n",
      "\n",
      "    accuracy                           0.37      2000\n",
      "   macro avg       0.40      0.38      0.35      2000\n",
      "weighted avg       0.40      0.37      0.34      2000\n",
      "\n"
     ]
    },
    {
     "name": "stderr",
     "output_type": "stream",
     "text": [
      "2024/12/11 13:05:40 WARNING mlflow.tensorflow: You are saving a TensorFlow Core model or Keras model without a signature. Inference with mlflow.pyfunc.spark_udf() will not work unless the model's pyfunc representation accepts pandas DataFrames as inference inputs.\n",
      "WARNING:absl:Found untraced functions such as _jit_compiled_convolution_op, _jit_compiled_convolution_op, _jit_compiled_convolution_op, _jit_compiled_convolution_op, _jit_compiled_convolution_op while saving (showing 5 of 8). These functions will not be directly callable after loading.\n"
     ]
    },
    {
     "name": "stdout",
     "output_type": "stream",
     "text": [
      "INFO:tensorflow:Assets written to: C:\\Users\\niman\\AppData\\Local\\Temp\\tmp24tz5g1k\\model\\data\\model\\assets\n"
     ]
    },
    {
     "name": "stderr",
     "output_type": "stream",
     "text": [
      "INFO:tensorflow:Assets written to: C:\\Users\\niman\\AppData\\Local\\Temp\\tmp24tz5g1k\\model\\data\\model\\assets\n",
      "2024/12/11 13:05:58 WARNING mlflow.models.model: Model logged without a signature and input example. Please set `input_example` parameter when logging the model to auto infer the model signature.\n"
     ]
    },
    {
     "name": "stdout",
     "output_type": "stream",
     "text": [
      "Précision sur les données de test : 37.40%\n",
      "🏃 View run wistful-roo-822 at: http://localhost:5000/#/experiments/2/runs/eaa7b22e44d74e3097aafbd697e6f4f4\n",
      "🧪 View experiment at: http://localhost:5000/#/experiments/2\n"
     ]
    }
   ],
   "source": [
    "from tensorflow.keras.utils import to_categorical\n",
    "from tensorflow.keras import layers, models\n",
    "\n",
    "y_train_one_hot = to_categorical(y_train_subset, num_classes=10)\n",
    "y_test_one_hot = to_categorical(y_test_subset, num_classes=10)\n",
    "\n",
    "class_names = ['Airplane', 'Automobile', 'Bird', 'Cat', 'Deer', 'Dog', 'Frog', 'Horse', 'Ship', 'Truck']\n",
    "\n",
    "\n",
    "def create_cnn_model(learning_rate=0.001, dropout_rate=0.25):\n",
    "    model = models.Sequential([\n",
    "        # Bloc 1\n",
    "        layers.Conv2D(64, (3, 3), activation='relu', padding=\"same\", input_shape=(32, 32, 3)),\n",
    "        layers.BatchNormalization(),\n",
    "        layers.Conv2D(64, (3, 3), activation='relu', padding=\"same\"),\n",
    "        layers.BatchNormalization(),\n",
    "        layers.MaxPooling2D((2, 2)),\n",
    "        layers.BatchNormalization(),\n",
    "        layers.Dropout(dropout_rate),\n",
    "\n",
    "        # Bloc 2\n",
    "        layers.Conv2D(128, (3, 3), activation='relu', padding=\"same\"),\n",
    "        layers.BatchNormalization(),\n",
    "        layers.Conv2D(128, (3, 3), activation='relu', padding=\"same\"),\n",
    "        layers.BatchNormalization(),\n",
    "        layers.MaxPooling2D((2, 2)),\n",
    "        layers.BatchNormalization(),\n",
    "        layers.Dropout(dropout_rate),\n",
    "\n",
    "        # Bloc 3\n",
    "        layers.Conv2D(256, (3, 3), activation='relu', padding=\"same\"),\n",
    "        layers.BatchNormalization(),\n",
    "        layers.Conv2D(256, (3, 3), activation='relu', padding=\"same\"),\n",
    "        layers.BatchNormalization(),\n",
    "        layers.MaxPooling2D((2, 2)),\n",
    "        layers.BatchNormalization(),\n",
    "        layers.Dropout(dropout_rate),\n",
    "\n",
    "        # Bloc 4\n",
    "        layers.Conv2D(256, (3, 3), activation='relu', padding=\"same\"),\n",
    "        layers.BatchNormalization(),\n",
    "        layers.Conv2D(256, (3, 3), activation='relu', padding=\"same\"),\n",
    "        layers.BatchNormalization(),\n",
    "        layers.MaxPooling2D((2, 2)),\n",
    "        layers.BatchNormalization(),\n",
    "        layers.Dropout(dropout_rate),\n",
    "\n",
    "        # Classifieur\n",
    "        layers.Flatten(),\n",
    "        layers.Dense(512, activation='relu'),\n",
    "        layers.Dense(10, activation='softmax'),\n",
    "    ])\n",
    "    \n",
    "    model.compile(\n",
    "        optimizer=tf.keras.optimizers.Adam(learning_rate=learning_rate),\n",
    "        loss='categorical_crossentropy',\n",
    "        metrics=['accuracy']\n",
    "    )\n",
    "    return model\n",
    "\n",
    "\n",
    "mlflow.tensorflow.autolog()\n",
    "mlflow.set_experiment(\"CNN_classification\")\n",
    "\n",
    "\n",
    "with mlflow.start_run() as run3:\n",
    "    \n",
    "    learning_rate = 0.001\n",
    "    dropout_rate = 0.25\n",
    "\n",
    "\n",
    "    model = create_cnn_model(learning_rate, dropout_rate)\n",
    "\n",
    "\n",
    "\n",
    "\n",
    "    history = model.fit(\n",
    "        x_train_subset, y_train_one_hot,\n",
    "        validation_split=0.2,\n",
    "        epochs=2,\n",
    "        batch_size=32,\n",
    "\n",
    "    )\n",
    "\n",
    "\n",
    "    test_loss, test_accuracy = model.evaluate(x_test_subset, y_test_one_hot, verbose=0)\n",
    "    mlflow.log_metric(\"test_loss\", test_loss)\n",
    "    mlflow.log_metric(\"test_accuracy\", test_accuracy)\n",
    "\n",
    "\n",
    "\n",
    " \n",
    "    y_pred_probs = model.predict(x_test_subset)\n",
    "    y_pred = np.argmax(y_pred_probs, axis=1)\n",
    "    y_true = np.argmax(y_test_one_hot, axis=1)\n",
    "\n",
    " \n",
    "    report = classification_report(y_true, y_pred, target_names=class_names, output_dict=True)\n",
    "    print(\"Classification Report:\")\n",
    "    print(classification_report(y_true, y_pred, target_names=class_names))\n",
    "\n",
    " \n",
    "    mlflow.log_metric(\"precision_macro\", report['macro avg']['precision'])\n",
    "    mlflow.log_metric(\"recall_macro\", report['macro avg']['recall'])\n",
    "    mlflow.log_metric(\"f1_macro\", report['macro avg']['f1-score'])\n",
    "    mlflow.log_metric(\"precision_weighted\", report['weighted avg']['precision'])\n",
    "    mlflow.log_metric(\"recall_weighted\", report['weighted avg']['recall'])\n",
    "    mlflow.log_metric(\"f1_weighted\", report['weighted avg']['f1-score'])\n",
    "\n",
    "    mlflow.keras.log_model(model, artifact_path=\"CNN_mdl_cifar\")\n",
    "\n",
    "\n",
    "\n",
    " \n",
    "    print(\"Précision sur les données de test : {:.2f}%\".format(test_accuracy * 100))\n"
   ]
  },
  {
   "cell_type": "markdown",
   "metadata": {},
   "source": [
    "### SVM model\n"
   ]
  },
  {
   "cell_type": "code",
   "execution_count": 92,
   "metadata": {},
   "outputs": [
    {
     "name": "stderr",
     "output_type": "stream",
     "text": [
      "c:\\Users\\niman\\Miniconda3\\envs\\tf_env\\lib\\site-packages\\sklearn\\utils\\validation.py:1339: DataConversionWarning: A column-vector y was passed when a 1d array was expected. Please change the shape of y to (n_samples, ), for example using ravel().\n",
      "  y = column_or_1d(y, warn=True)\n",
      "100%|██████████| 1000/1000 [00:07<00:00, 137.72it/s]\n",
      "100%|██████████| 1000/1000 [00:06<00:00, 144.31it/s]\n",
      "100%|██████████| 1000/1000 [00:07<00:00, 137.83it/s]\n",
      "100%|██████████| 1000/1000 [00:07<00:00, 137.85it/s]\n",
      "100%|██████████| 1000/1000 [00:07<00:00, 142.35it/s]\n",
      "2024/12/11 15:45:21 WARNING mlflow.models.model: Model logged without a signature and input example. Please set `input_example` parameter when logging the model to auto infer the model signature.\n",
      "c:\\Users\\niman\\Miniconda3\\envs\\tf_env\\lib\\site-packages\\sklearn\\utils\\validation.py:1339: DataConversionWarning: A column-vector y was passed when a 1d array was expected. Please change the shape of y to (n_samples, ), for example using ravel().\n",
      "  y = column_or_1d(y, warn=True)\n"
     ]
    },
    {
     "name": "stdout",
     "output_type": "stream",
     "text": [
      "🏃 View run mercurial-carp-940 at: http://localhost:5000/#/experiments/1/runs/69fb690b5dee4e96b7ef8f6159119724\n",
      "🧪 View experiment at: http://localhost:5000/#/experiments/1\n"
     ]
    },
    {
     "name": "stderr",
     "output_type": "stream",
     "text": [
      "100%|██████████| 1000/1000 [00:07<00:00, 128.42it/s]\n",
      "100%|██████████| 1000/1000 [00:07<00:00, 132.00it/s]\n",
      "100%|██████████| 1000/1000 [00:07<00:00, 129.02it/s]\n",
      "100%|██████████| 1000/1000 [00:07<00:00, 125.29it/s]\n",
      "100%|██████████| 1000/1000 [00:07<00:00, 131.27it/s]\n",
      "2024/12/11 15:47:18 WARNING mlflow.models.model: Model logged without a signature and input example. Please set `input_example` parameter when logging the model to auto infer the model signature.\n"
     ]
    },
    {
     "name": "stdout",
     "output_type": "stream",
     "text": [
      "🏃 View run delightful-ant-411 at: http://localhost:5000/#/experiments/1/runs/255ea8ffd5dd4c8497c4a0520463a548\n",
      "🧪 View experiment at: http://localhost:5000/#/experiments/1\n"
     ]
    }
   ],
   "source": [
    "import shap\n",
    "import lime\n",
    "from lime import lime_tabular\n",
    "import pickle\n",
    "from lime import lime_image\n",
    "from skimage.segmentation import mark_boundaries\n",
    "import matplotlib.pyplot as plt\n",
    "from sklearn.metrics import confusion_matrix, ConfusionMatrixDisplay\n",
    "\n",
    "\n",
    "mlflow.set_experiment(\"SVM_mdl_cifar\")\n",
    "def extract_hog_features(images):\n",
    "    hog_features = []\n",
    "    for image in images:\n",
    "        \n",
    "        gray_image = color.rgb2gray(image)\n",
    "        fd, _ = hog(gray_image, orientations=9, pixels_per_cell=(8, 8), cells_per_block=(2, 2), visualize=True)\n",
    "        hog_features.append(fd)\n",
    "    return np.array(hog_features)\n",
    "\n",
    "\n",
    "x_train_hog = extract_hog_features(x_train_subset)\n",
    "x_test_hog = extract_hog_features(x_test_subset)\n",
    "\n",
    "\n",
    "experiment_params = [\n",
    "    {\"svm__kernel\": \"linear\", \"svm__C\": 1.0 , \"svm__gamma\":0.01},\n",
    "    {\"svm__kernel\": \"rbf\", \"svm__C\": 10,\"svm__gamma\":0.01}  \n",
    "]\n",
    "\n",
    "\n",
    "pipeline = Pipeline([\n",
    "    ('scaler', StandardScaler()),   \n",
    "    ('pca', PCA(n_components=100)), \n",
    "    ('svm', SVC(probability=True))  \n",
    "])\n",
    "\n",
    "\n",
    "for params in experiment_params:\n",
    "    with mlflow.start_run() as run1:\n",
    "\n",
    "        \n",
    "        mlflow.log_param(\"kernel\", params[\"svm__kernel\"])\n",
    "        mlflow.log_param(\"C\", params[\"svm__C\"])\n",
    "        mlflow.log_param(\"gamma\", params[\"svm__gamma\"])\n",
    "\n",
    "        \n",
    "        pipeline.set_params(svm__kernel=params[\"svm__kernel\"], svm__C=params[\"svm__C\"], svm__gamma=params[\"svm__gamma\"])\n",
    "        pipeline.fit(x_train_hog, y_train_subset)\n",
    "        \n",
    "        \n",
    "        y_pred = pipeline.predict(x_test_hog)\n",
    "        \n",
    "        accuracy = accuracy_score(y_test_subset, y_pred)\n",
    "        precision = precision_score(y_test_subset, y_pred, average='weighted')\n",
    "        recall = recall_score(y_test_subset, y_pred, average='weighted')\n",
    "        f1 = f1_score(y_test_subset, y_pred, average='weighted')\n",
    "        \n",
    "        \n",
    "        mlflow.log_metric(\"accuracy\", accuracy)\n",
    "        mlflow.log_metric(\"precision\", precision)\n",
    "        mlflow.log_metric(\"recall\", recall)\n",
    "        mlflow.log_metric(\"f1_score\", f1)\n",
    "\n",
    "        report = classification_report(y_test_subset, y_pred, output_dict=False)\n",
    "        report_path = \"classification_report.txt\"\n",
    "        with open(report_path, \"w\") as f:\n",
    "            f.write(report)\n",
    "        mlflow.log_artifact(report_path)\n",
    "\n",
    "\n",
    "        cm = confusion_matrix(y_test_subset, y_pred)\n",
    "        disp = ConfusionMatrixDisplay(confusion_matrix=cm)\n",
    "        disp.plot(cmap=plt.cm.Blues, xticks_rotation='vertical')\n",
    "        plt.title(\"Confusion Matrix\")\n",
    "        cm_path = \"confusion_matrix.png\"\n",
    "        plt.savefig(cm_path)\n",
    "        plt.close()\n",
    "        mlflow.log_artifact(cm_path)\n",
    "        ######################################\n",
    "        lime_explainer = lime_tabular.LimeTabularExplainer(\n",
    "            training_data=x_train_hog,\n",
    "            feature_names=[f\"feature_{i}\" for i in range(x_train_hog.shape[1])],\n",
    "            class_names=[\"Class 0\", \"Class 1\", ..., \"Class N\"],  \n",
    "            mode=\"classification\"\n",
    "        )\n",
    "\n",
    "        \n",
    "        for i in range(5):  \n",
    "            lime_exp = lime_explainer.explain_instance(\n",
    "                data_row=x_test_hog[i],\n",
    "                predict_fn=pipeline.predict_proba\n",
    "            )\n",
    "\n",
    "           \n",
    "            explanation_path = f\"lime_explanation_{i}.html\"\n",
    "            lime_exp.save_to_file(explanation_path)\n",
    "            mlflow.log_artifact(explanation_path)\n",
    "\n",
    "            \n",
    "            lime_exp.as_pyplot_figure()\n",
    "            plt.title(f\"LIME Explanation for Instance {i}\")\n",
    "            plt.savefig(f\"lime_explanation_plot_{i}.png\")\n",
    "            plt.close()\n",
    "            mlflow.log_artifact(f\"lime_explanation_plot_{i}.png\")\n",
    "\n",
    "        #######################################\n",
    "        \n",
    "        lime_image_explainer = lime_image.LimeImageExplainer()\n",
    "\n",
    "        for i in range(5):  \n",
    "            \n",
    "            test_image = x_test_subset[i]  \n",
    "            \n",
    "            \n",
    "            def predict_fn(images):\n",
    "                \n",
    "                hog_features = extract_hog_features(images)\n",
    "                return pipeline.predict_proba(hog_features)\n",
    "\n",
    "            \n",
    "            lime_image_exp = lime_image_explainer.explain_instance(\n",
    "                image=test_image,\n",
    "                classifier_fn=predict_fn,\n",
    "                top_labels=3,  \n",
    "                hide_color=0,\n",
    "                num_samples=1000  \n",
    "            )\n",
    "\n",
    "            \n",
    "            label = pipeline.predict(extract_hog_features([test_image]))[0]\n",
    "            temp, mask = lime_image_exp.get_image_and_mask(\n",
    "                label=label,\n",
    "                positive_only=True,\n",
    "                hide_rest=False,\n",
    "                num_features=5,\n",
    "                min_weight=0.0\n",
    "            )\n",
    "\n",
    "            \n",
    "            fig, ax = plt.subplots(1, 1, figsize=(6, 6))\n",
    "            ax.imshow(mark_boundaries(temp / 255.0, mask))  \n",
    "            ax.set_title(f\"LIME Image Explanation for Instance {i}\")\n",
    "            ax.axis('off')\n",
    "            explanation_image_path = f\"lime_image_explanation_{i}.png\"\n",
    "            plt.savefig(explanation_image_path)\n",
    "            plt.close()\n",
    "            mlflow.log_artifact(explanation_image_path)\n",
    "\n",
    "            \n",
    "            explanation_pickle_path = f\"lime_image_explanation_{i}.pkl\"\n",
    "            with open(explanation_pickle_path, \"wb\") as f:\n",
    "                pickle.dump(lime_image_exp, f)\n",
    "            mlflow.log_artifact(explanation_pickle_path)\n",
    "\n",
    "\n",
    "        ######################################\n",
    "        mlflow.sklearn.log_model(pipeline, artifact_path=\"SVM_mdl_cifar\")\n",
    "        \n",
    "      "
   ]
  },
  {
   "cell_type": "markdown",
   "metadata": {},
   "source": [
    "Matrice de confusion"
   ]
  },
  {
   "cell_type": "code",
   "execution_count": null,
   "metadata": {},
   "outputs": [
    {
     "name": "stdout",
     "output_type": "stream",
     "text": [
      "🏃 View run vaunted-grub-385 at: http://localhost:5000/#/experiments/1/runs/ddc6621b44a54213997210df6e4913f0\n",
      "🧪 View experiment at: http://localhost:5000/#/experiments/1\n",
      "La matrice de confusion a été enregistrée avec succès dans MLflow.\n"
     ]
    }
   ],
   "source": [
    "y_true =y_test_subset  \n",
    "y_pred = pipeline.predict(x_test_hog)  \n",
    "\n",
    "\n",
    "conf_matrix = confusion_matrix(y_true, y_pred)\n",
    "\n",
    "\n",
    "plt.figure(figsize=(8, 6))\n",
    "sns.heatmap(conf_matrix, annot=True, fmt='d', cmap='Blues')\n",
    "plt.xlabel(\"Labels Prédits\")\n",
    "plt.ylabel(\"Labels Réels\")\n",
    "plt.title(\"Matrice de Confusion\")\n",
    "\n",
    "\n",
    "conf_matrix_path = \"confusion_matrix.png\"\n",
    "plt.savefig(conf_matrix_path)\n",
    "plt.close()\n",
    "\n",
    "\n",
    "with mlflow.start_run(run_id=\"ddc6621b44a54213997210df6e4913f0\"):\n",
    "    mlflow.log_artifact(conf_matrix_path)\n",
    "\n",
    "\n",
    "import os\n",
    "os.remove(conf_matrix_path)\n",
    "\n",
    "print(\"La matrice de confusion a été enregistrée avec succès dans MLflow.\")"
   ]
  },
  {
   "cell_type": "markdown",
   "metadata": {},
   "source": [
    "### Random Forest"
   ]
  },
  {
   "cell_type": "code",
   "execution_count": null,
   "metadata": {},
   "outputs": [
    {
     "name": "stderr",
     "output_type": "stream",
     "text": [
      "c:\\Users\\niman\\Miniconda3\\envs\\tf_env\\lib\\site-packages\\sklearn\\base.py:1473: DataConversionWarning: A column-vector y was passed when a 1d array was expected. Please change the shape of y to (n_samples,), for example using ravel().\n",
      "  return fit_method(estimator, *args, **kwargs)\n",
      "2024/12/11 11:37:13 WARNING mlflow.models.model: Model logged without a signature and input example. Please set `input_example` parameter when logging the model to auto infer the model signature.\n"
     ]
    },
    {
     "name": "stdout",
     "output_type": "stream",
     "text": [
      "🏃 View run salty-ox-692 at: http://localhost:5000/#/experiments/0/runs/36250a5180cf41eb93c54a33343118cc\n",
      "🧪 View experiment at: http://localhost:5000/#/experiments/0\n",
      "Run with params {'max_depth': None, 'min_samples_leaf': 1, 'min_samples_split': 2, 'n_estimators': 50} saved in http://localhost:5000\n"
     ]
    },
    {
     "name": "stderr",
     "output_type": "stream",
     "text": [
      "c:\\Users\\niman\\Miniconda3\\envs\\tf_env\\lib\\site-packages\\sklearn\\base.py:1473: DataConversionWarning: A column-vector y was passed when a 1d array was expected. Please change the shape of y to (n_samples,), for example using ravel().\n",
      "  return fit_method(estimator, *args, **kwargs)\n",
      "2024/12/11 11:37:25 WARNING mlflow.models.model: Model logged without a signature and input example. Please set `input_example` parameter when logging the model to auto infer the model signature.\n"
     ]
    },
    {
     "name": "stdout",
     "output_type": "stream",
     "text": [
      "🏃 View run tasteful-asp-130 at: http://localhost:5000/#/experiments/0/runs/0bc9ef40c55547c283457e584081f017\n",
      "🧪 View experiment at: http://localhost:5000/#/experiments/0\n",
      "Run with params {'max_depth': None, 'min_samples_leaf': 1, 'min_samples_split': 2, 'n_estimators': 100} saved in http://localhost:5000\n"
     ]
    },
    {
     "name": "stderr",
     "output_type": "stream",
     "text": [
      "c:\\Users\\niman\\Miniconda3\\envs\\tf_env\\lib\\site-packages\\sklearn\\base.py:1473: DataConversionWarning: A column-vector y was passed when a 1d array was expected. Please change the shape of y to (n_samples,), for example using ravel().\n",
      "  return fit_method(estimator, *args, **kwargs)\n",
      "2024/12/11 11:37:46 WARNING mlflow.models.model: Model logged without a signature and input example. Please set `input_example` parameter when logging the model to auto infer the model signature.\n"
     ]
    },
    {
     "name": "stdout",
     "output_type": "stream",
     "text": [
      "🏃 View run industrious-yak-703 at: http://localhost:5000/#/experiments/0/runs/878fc5ba8d784f588c1c24340d2242df\n",
      "🧪 View experiment at: http://localhost:5000/#/experiments/0\n",
      "Run with params {'max_depth': None, 'min_samples_leaf': 1, 'min_samples_split': 2, 'n_estimators': 200} saved in http://localhost:5000\n"
     ]
    },
    {
     "name": "stderr",
     "output_type": "stream",
     "text": [
      "c:\\Users\\niman\\Miniconda3\\envs\\tf_env\\lib\\site-packages\\sklearn\\base.py:1473: DataConversionWarning: A column-vector y was passed when a 1d array was expected. Please change the shape of y to (n_samples,), for example using ravel().\n",
      "  return fit_method(estimator, *args, **kwargs)\n",
      "2024/12/11 11:37:54 WARNING mlflow.models.model: Model logged without a signature and input example. Please set `input_example` parameter when logging the model to auto infer the model signature.\n"
     ]
    },
    {
     "name": "stdout",
     "output_type": "stream",
     "text": [
      "🏃 View run invincible-skunk-883 at: http://localhost:5000/#/experiments/0/runs/19c54236644d45e182a2a3f3ab62ca5d\n",
      "🧪 View experiment at: http://localhost:5000/#/experiments/0\n",
      "Run with params {'max_depth': None, 'min_samples_leaf': 1, 'min_samples_split': 5, 'n_estimators': 50} saved in http://localhost:5000\n"
     ]
    },
    {
     "name": "stderr",
     "output_type": "stream",
     "text": [
      "c:\\Users\\niman\\Miniconda3\\envs\\tf_env\\lib\\site-packages\\sklearn\\base.py:1473: DataConversionWarning: A column-vector y was passed when a 1d array was expected. Please change the shape of y to (n_samples,), for example using ravel().\n",
      "  return fit_method(estimator, *args, **kwargs)\n",
      "2024/12/11 11:38:06 WARNING mlflow.models.model: Model logged without a signature and input example. Please set `input_example` parameter when logging the model to auto infer the model signature.\n"
     ]
    },
    {
     "name": "stdout",
     "output_type": "stream",
     "text": [
      "🏃 View run amazing-lamb-982 at: http://localhost:5000/#/experiments/0/runs/5f55b579a89e426ab3f66351727fc610\n",
      "🧪 View experiment at: http://localhost:5000/#/experiments/0\n",
      "Run with params {'max_depth': None, 'min_samples_leaf': 1, 'min_samples_split': 5, 'n_estimators': 100} saved in http://localhost:5000\n"
     ]
    },
    {
     "name": "stderr",
     "output_type": "stream",
     "text": [
      "c:\\Users\\niman\\Miniconda3\\envs\\tf_env\\lib\\site-packages\\sklearn\\base.py:1473: DataConversionWarning: A column-vector y was passed when a 1d array was expected. Please change the shape of y to (n_samples,), for example using ravel().\n",
      "  return fit_method(estimator, *args, **kwargs)\n",
      "2024/12/11 11:38:26 WARNING mlflow.models.model: Model logged without a signature and input example. Please set `input_example` parameter when logging the model to auto infer the model signature.\n"
     ]
    },
    {
     "name": "stdout",
     "output_type": "stream",
     "text": [
      "🏃 View run nimble-kit-835 at: http://localhost:5000/#/experiments/0/runs/c97e56cb55bf4a53a7ad23ada6b27df9\n",
      "🧪 View experiment at: http://localhost:5000/#/experiments/0\n",
      "Run with params {'max_depth': None, 'min_samples_leaf': 1, 'min_samples_split': 5, 'n_estimators': 200} saved in http://localhost:5000\n"
     ]
    },
    {
     "name": "stderr",
     "output_type": "stream",
     "text": [
      "c:\\Users\\niman\\Miniconda3\\envs\\tf_env\\lib\\site-packages\\sklearn\\base.py:1473: DataConversionWarning: A column-vector y was passed when a 1d array was expected. Please change the shape of y to (n_samples,), for example using ravel().\n",
      "  return fit_method(estimator, *args, **kwargs)\n",
      "2024/12/11 11:38:35 WARNING mlflow.models.model: Model logged without a signature and input example. Please set `input_example` parameter when logging the model to auto infer the model signature.\n"
     ]
    },
    {
     "name": "stdout",
     "output_type": "stream",
     "text": [
      "🏃 View run efficient-goose-189 at: http://localhost:5000/#/experiments/0/runs/e245751d313748c29bd176a4a8d858ae\n",
      "🧪 View experiment at: http://localhost:5000/#/experiments/0\n",
      "Run with params {'max_depth': None, 'min_samples_leaf': 2, 'min_samples_split': 2, 'n_estimators': 50} saved in http://localhost:5000\n"
     ]
    },
    {
     "name": "stderr",
     "output_type": "stream",
     "text": [
      "c:\\Users\\niman\\Miniconda3\\envs\\tf_env\\lib\\site-packages\\sklearn\\base.py:1473: DataConversionWarning: A column-vector y was passed when a 1d array was expected. Please change the shape of y to (n_samples,), for example using ravel().\n",
      "  return fit_method(estimator, *args, **kwargs)\n",
      "2024/12/11 11:38:47 WARNING mlflow.models.model: Model logged without a signature and input example. Please set `input_example` parameter when logging the model to auto infer the model signature.\n"
     ]
    },
    {
     "name": "stdout",
     "output_type": "stream",
     "text": [
      "🏃 View run silent-crow-995 at: http://localhost:5000/#/experiments/0/runs/f885f86434054105b85171e196511034\n",
      "🧪 View experiment at: http://localhost:5000/#/experiments/0\n",
      "Run with params {'max_depth': None, 'min_samples_leaf': 2, 'min_samples_split': 2, 'n_estimators': 100} saved in http://localhost:5000\n"
     ]
    },
    {
     "name": "stderr",
     "output_type": "stream",
     "text": [
      "c:\\Users\\niman\\Miniconda3\\envs\\tf_env\\lib\\site-packages\\sklearn\\base.py:1473: DataConversionWarning: A column-vector y was passed when a 1d array was expected. Please change the shape of y to (n_samples,), for example using ravel().\n",
      "  return fit_method(estimator, *args, **kwargs)\n",
      "2024/12/11 11:39:06 WARNING mlflow.models.model: Model logged without a signature and input example. Please set `input_example` parameter when logging the model to auto infer the model signature.\n"
     ]
    },
    {
     "name": "stdout",
     "output_type": "stream",
     "text": [
      "🏃 View run sneaky-squirrel-592 at: http://localhost:5000/#/experiments/0/runs/d01549bdae4b42eba568f095ec460c5a\n",
      "🧪 View experiment at: http://localhost:5000/#/experiments/0\n",
      "Run with params {'max_depth': None, 'min_samples_leaf': 2, 'min_samples_split': 2, 'n_estimators': 200} saved in http://localhost:5000\n"
     ]
    },
    {
     "name": "stderr",
     "output_type": "stream",
     "text": [
      "c:\\Users\\niman\\Miniconda3\\envs\\tf_env\\lib\\site-packages\\sklearn\\base.py:1473: DataConversionWarning: A column-vector y was passed when a 1d array was expected. Please change the shape of y to (n_samples,), for example using ravel().\n",
      "  return fit_method(estimator, *args, **kwargs)\n",
      "2024/12/11 11:39:14 WARNING mlflow.models.model: Model logged without a signature and input example. Please set `input_example` parameter when logging the model to auto infer the model signature.\n"
     ]
    },
    {
     "name": "stdout",
     "output_type": "stream",
     "text": [
      "🏃 View run luxuriant-tern-866 at: http://localhost:5000/#/experiments/0/runs/bfab936fb10649878173dbac96961bfd\n",
      "🧪 View experiment at: http://localhost:5000/#/experiments/0\n",
      "Run with params {'max_depth': None, 'min_samples_leaf': 2, 'min_samples_split': 5, 'n_estimators': 50} saved in http://localhost:5000\n"
     ]
    },
    {
     "name": "stderr",
     "output_type": "stream",
     "text": [
      "c:\\Users\\niman\\Miniconda3\\envs\\tf_env\\lib\\site-packages\\sklearn\\base.py:1473: DataConversionWarning: A column-vector y was passed when a 1d array was expected. Please change the shape of y to (n_samples,), for example using ravel().\n",
      "  return fit_method(estimator, *args, **kwargs)\n",
      "2024/12/11 11:39:26 WARNING mlflow.models.model: Model logged without a signature and input example. Please set `input_example` parameter when logging the model to auto infer the model signature.\n"
     ]
    },
    {
     "name": "stdout",
     "output_type": "stream",
     "text": [
      "🏃 View run nosy-hawk-21 at: http://localhost:5000/#/experiments/0/runs/e15d00d371ea422a81a1774efd8d412f\n",
      "🧪 View experiment at: http://localhost:5000/#/experiments/0\n",
      "Run with params {'max_depth': None, 'min_samples_leaf': 2, 'min_samples_split': 5, 'n_estimators': 100} saved in http://localhost:5000\n"
     ]
    },
    {
     "name": "stderr",
     "output_type": "stream",
     "text": [
      "c:\\Users\\niman\\Miniconda3\\envs\\tf_env\\lib\\site-packages\\sklearn\\base.py:1473: DataConversionWarning: A column-vector y was passed when a 1d array was expected. Please change the shape of y to (n_samples,), for example using ravel().\n",
      "  return fit_method(estimator, *args, **kwargs)\n",
      "2024/12/11 11:39:44 WARNING mlflow.models.model: Model logged without a signature and input example. Please set `input_example` parameter when logging the model to auto infer the model signature.\n"
     ]
    },
    {
     "name": "stdout",
     "output_type": "stream",
     "text": [
      "🏃 View run adorable-kite-823 at: http://localhost:5000/#/experiments/0/runs/79e9beb8107c49edbda2f92cd4ff2dba\n",
      "🧪 View experiment at: http://localhost:5000/#/experiments/0\n",
      "Run with params {'max_depth': None, 'min_samples_leaf': 2, 'min_samples_split': 5, 'n_estimators': 200} saved in http://localhost:5000\n"
     ]
    },
    {
     "name": "stderr",
     "output_type": "stream",
     "text": [
      "c:\\Users\\niman\\Miniconda3\\envs\\tf_env\\lib\\site-packages\\sklearn\\base.py:1473: DataConversionWarning: A column-vector y was passed when a 1d array was expected. Please change the shape of y to (n_samples,), for example using ravel().\n",
      "  return fit_method(estimator, *args, **kwargs)\n",
      "2024/12/11 11:39:52 WARNING mlflow.models.model: Model logged without a signature and input example. Please set `input_example` parameter when logging the model to auto infer the model signature.\n"
     ]
    },
    {
     "name": "stdout",
     "output_type": "stream",
     "text": [
      "🏃 View run glamorous-stoat-11 at: http://localhost:5000/#/experiments/0/runs/5e90a985bde54df2b2d7ab3bf7300f77\n",
      "🧪 View experiment at: http://localhost:5000/#/experiments/0\n",
      "Run with params {'max_depth': 10, 'min_samples_leaf': 1, 'min_samples_split': 2, 'n_estimators': 50} saved in http://localhost:5000\n"
     ]
    },
    {
     "name": "stderr",
     "output_type": "stream",
     "text": [
      "c:\\Users\\niman\\Miniconda3\\envs\\tf_env\\lib\\site-packages\\sklearn\\base.py:1473: DataConversionWarning: A column-vector y was passed when a 1d array was expected. Please change the shape of y to (n_samples,), for example using ravel().\n",
      "  return fit_method(estimator, *args, **kwargs)\n",
      "2024/12/11 11:40:01 WARNING mlflow.models.model: Model logged without a signature and input example. Please set `input_example` parameter when logging the model to auto infer the model signature.\n"
     ]
    },
    {
     "name": "stdout",
     "output_type": "stream",
     "text": [
      "🏃 View run fortunate-goose-584 at: http://localhost:5000/#/experiments/0/runs/fe45ef915af2480fae1cc842709e7166\n",
      "🧪 View experiment at: http://localhost:5000/#/experiments/0\n",
      "Run with params {'max_depth': 10, 'min_samples_leaf': 1, 'min_samples_split': 2, 'n_estimators': 100} saved in http://localhost:5000\n"
     ]
    },
    {
     "name": "stderr",
     "output_type": "stream",
     "text": [
      "c:\\Users\\niman\\Miniconda3\\envs\\tf_env\\lib\\site-packages\\sklearn\\base.py:1473: DataConversionWarning: A column-vector y was passed when a 1d array was expected. Please change the shape of y to (n_samples,), for example using ravel().\n",
      "  return fit_method(estimator, *args, **kwargs)\n",
      "2024/12/11 11:40:16 WARNING mlflow.models.model: Model logged without a signature and input example. Please set `input_example` parameter when logging the model to auto infer the model signature.\n"
     ]
    },
    {
     "name": "stdout",
     "output_type": "stream",
     "text": [
      "🏃 View run efficient-rat-549 at: http://localhost:5000/#/experiments/0/runs/974f16c63b844d279d2b6fc4da335bf7\n",
      "🧪 View experiment at: http://localhost:5000/#/experiments/0\n",
      "Run with params {'max_depth': 10, 'min_samples_leaf': 1, 'min_samples_split': 2, 'n_estimators': 200} saved in http://localhost:5000\n"
     ]
    },
    {
     "name": "stderr",
     "output_type": "stream",
     "text": [
      "c:\\Users\\niman\\Miniconda3\\envs\\tf_env\\lib\\site-packages\\sklearn\\base.py:1473: DataConversionWarning: A column-vector y was passed when a 1d array was expected. Please change the shape of y to (n_samples,), for example using ravel().\n",
      "  return fit_method(estimator, *args, **kwargs)\n",
      "2024/12/11 11:40:23 WARNING mlflow.models.model: Model logged without a signature and input example. Please set `input_example` parameter when logging the model to auto infer the model signature.\n"
     ]
    },
    {
     "name": "stdout",
     "output_type": "stream",
     "text": [
      "🏃 View run agreeable-perch-749 at: http://localhost:5000/#/experiments/0/runs/b902e385e953486d9af1809962788b70\n",
      "🧪 View experiment at: http://localhost:5000/#/experiments/0\n",
      "Run with params {'max_depth': 10, 'min_samples_leaf': 1, 'min_samples_split': 5, 'n_estimators': 50} saved in http://localhost:5000\n"
     ]
    },
    {
     "name": "stderr",
     "output_type": "stream",
     "text": [
      "c:\\Users\\niman\\Miniconda3\\envs\\tf_env\\lib\\site-packages\\sklearn\\base.py:1473: DataConversionWarning: A column-vector y was passed when a 1d array was expected. Please change the shape of y to (n_samples,), for example using ravel().\n",
      "  return fit_method(estimator, *args, **kwargs)\n",
      "2024/12/11 11:40:32 WARNING mlflow.models.model: Model logged without a signature and input example. Please set `input_example` parameter when logging the model to auto infer the model signature.\n"
     ]
    },
    {
     "name": "stdout",
     "output_type": "stream",
     "text": [
      "🏃 View run shivering-roo-666 at: http://localhost:5000/#/experiments/0/runs/3cc61dd1d57741b681c3e645e32ce0a9\n",
      "🧪 View experiment at: http://localhost:5000/#/experiments/0\n",
      "Run with params {'max_depth': 10, 'min_samples_leaf': 1, 'min_samples_split': 5, 'n_estimators': 100} saved in http://localhost:5000\n"
     ]
    },
    {
     "name": "stderr",
     "output_type": "stream",
     "text": [
      "c:\\Users\\niman\\Miniconda3\\envs\\tf_env\\lib\\site-packages\\sklearn\\base.py:1473: DataConversionWarning: A column-vector y was passed when a 1d array was expected. Please change the shape of y to (n_samples,), for example using ravel().\n",
      "  return fit_method(estimator, *args, **kwargs)\n",
      "2024/12/11 11:40:47 WARNING mlflow.models.model: Model logged without a signature and input example. Please set `input_example` parameter when logging the model to auto infer the model signature.\n"
     ]
    },
    {
     "name": "stdout",
     "output_type": "stream",
     "text": [
      "🏃 View run judicious-gnu-957 at: http://localhost:5000/#/experiments/0/runs/4e2aaa707b4e404ab36114f23c2ceeba\n",
      "🧪 View experiment at: http://localhost:5000/#/experiments/0\n",
      "Run with params {'max_depth': 10, 'min_samples_leaf': 1, 'min_samples_split': 5, 'n_estimators': 200} saved in http://localhost:5000\n"
     ]
    },
    {
     "name": "stderr",
     "output_type": "stream",
     "text": [
      "c:\\Users\\niman\\Miniconda3\\envs\\tf_env\\lib\\site-packages\\sklearn\\base.py:1473: DataConversionWarning: A column-vector y was passed when a 1d array was expected. Please change the shape of y to (n_samples,), for example using ravel().\n",
      "  return fit_method(estimator, *args, **kwargs)\n",
      "2024/12/11 11:40:55 WARNING mlflow.models.model: Model logged without a signature and input example. Please set `input_example` parameter when logging the model to auto infer the model signature.\n"
     ]
    },
    {
     "name": "stdout",
     "output_type": "stream",
     "text": [
      "🏃 View run auspicious-zebra-417 at: http://localhost:5000/#/experiments/0/runs/d3993b5bbac94e40b7cfa480be36768c\n",
      "🧪 View experiment at: http://localhost:5000/#/experiments/0\n",
      "Run with params {'max_depth': 10, 'min_samples_leaf': 2, 'min_samples_split': 2, 'n_estimators': 50} saved in http://localhost:5000\n"
     ]
    },
    {
     "name": "stderr",
     "output_type": "stream",
     "text": [
      "c:\\Users\\niman\\Miniconda3\\envs\\tf_env\\lib\\site-packages\\sklearn\\base.py:1473: DataConversionWarning: A column-vector y was passed when a 1d array was expected. Please change the shape of y to (n_samples,), for example using ravel().\n",
      "  return fit_method(estimator, *args, **kwargs)\n",
      "2024/12/11 11:41:04 WARNING mlflow.models.model: Model logged without a signature and input example. Please set `input_example` parameter when logging the model to auto infer the model signature.\n"
     ]
    },
    {
     "name": "stdout",
     "output_type": "stream",
     "text": [
      "🏃 View run capricious-toad-700 at: http://localhost:5000/#/experiments/0/runs/19e7266008b74358a80ba9ade901df9b\n",
      "🧪 View experiment at: http://localhost:5000/#/experiments/0\n",
      "Run with params {'max_depth': 10, 'min_samples_leaf': 2, 'min_samples_split': 2, 'n_estimators': 100} saved in http://localhost:5000\n"
     ]
    },
    {
     "name": "stderr",
     "output_type": "stream",
     "text": [
      "c:\\Users\\niman\\Miniconda3\\envs\\tf_env\\lib\\site-packages\\sklearn\\base.py:1473: DataConversionWarning: A column-vector y was passed when a 1d array was expected. Please change the shape of y to (n_samples,), for example using ravel().\n",
      "  return fit_method(estimator, *args, **kwargs)\n",
      "2024/12/11 11:41:19 WARNING mlflow.models.model: Model logged without a signature and input example. Please set `input_example` parameter when logging the model to auto infer the model signature.\n"
     ]
    },
    {
     "name": "stdout",
     "output_type": "stream",
     "text": [
      "🏃 View run gentle-croc-222 at: http://localhost:5000/#/experiments/0/runs/207c831131534a3ebe42c775f50fe93f\n",
      "🧪 View experiment at: http://localhost:5000/#/experiments/0\n",
      "Run with params {'max_depth': 10, 'min_samples_leaf': 2, 'min_samples_split': 2, 'n_estimators': 200} saved in http://localhost:5000\n"
     ]
    },
    {
     "name": "stderr",
     "output_type": "stream",
     "text": [
      "c:\\Users\\niman\\Miniconda3\\envs\\tf_env\\lib\\site-packages\\sklearn\\base.py:1473: DataConversionWarning: A column-vector y was passed when a 1d array was expected. Please change the shape of y to (n_samples,), for example using ravel().\n",
      "  return fit_method(estimator, *args, **kwargs)\n",
      "2024/12/11 11:41:26 WARNING mlflow.models.model: Model logged without a signature and input example. Please set `input_example` parameter when logging the model to auto infer the model signature.\n"
     ]
    },
    {
     "name": "stdout",
     "output_type": "stream",
     "text": [
      "🏃 View run gregarious-hound-464 at: http://localhost:5000/#/experiments/0/runs/4962ecf5ebc14bb69efca732b6d3e136\n",
      "🧪 View experiment at: http://localhost:5000/#/experiments/0\n",
      "Run with params {'max_depth': 10, 'min_samples_leaf': 2, 'min_samples_split': 5, 'n_estimators': 50} saved in http://localhost:5000\n"
     ]
    },
    {
     "name": "stderr",
     "output_type": "stream",
     "text": [
      "c:\\Users\\niman\\Miniconda3\\envs\\tf_env\\lib\\site-packages\\sklearn\\base.py:1473: DataConversionWarning: A column-vector y was passed when a 1d array was expected. Please change the shape of y to (n_samples,), for example using ravel().\n",
      "  return fit_method(estimator, *args, **kwargs)\n",
      "2024/12/11 11:41:35 WARNING mlflow.models.model: Model logged without a signature and input example. Please set `input_example` parameter when logging the model to auto infer the model signature.\n"
     ]
    },
    {
     "name": "stdout",
     "output_type": "stream",
     "text": [
      "🏃 View run treasured-rook-567 at: http://localhost:5000/#/experiments/0/runs/13d8db5c0a5341dd90e325ed63993443\n",
      "🧪 View experiment at: http://localhost:5000/#/experiments/0\n",
      "Run with params {'max_depth': 10, 'min_samples_leaf': 2, 'min_samples_split': 5, 'n_estimators': 100} saved in http://localhost:5000\n"
     ]
    },
    {
     "name": "stderr",
     "output_type": "stream",
     "text": [
      "c:\\Users\\niman\\Miniconda3\\envs\\tf_env\\lib\\site-packages\\sklearn\\base.py:1473: DataConversionWarning: A column-vector y was passed when a 1d array was expected. Please change the shape of y to (n_samples,), for example using ravel().\n",
      "  return fit_method(estimator, *args, **kwargs)\n",
      "2024/12/11 11:41:50 WARNING mlflow.models.model: Model logged without a signature and input example. Please set `input_example` parameter when logging the model to auto infer the model signature.\n"
     ]
    },
    {
     "name": "stdout",
     "output_type": "stream",
     "text": [
      "🏃 View run serious-sponge-608 at: http://localhost:5000/#/experiments/0/runs/5c21b319f0d64fa7bcff79a6a1428e6f\n",
      "🧪 View experiment at: http://localhost:5000/#/experiments/0\n",
      "Run with params {'max_depth': 10, 'min_samples_leaf': 2, 'min_samples_split': 5, 'n_estimators': 200} saved in http://localhost:5000\n"
     ]
    },
    {
     "name": "stderr",
     "output_type": "stream",
     "text": [
      "c:\\Users\\niman\\Miniconda3\\envs\\tf_env\\lib\\site-packages\\sklearn\\base.py:1473: DataConversionWarning: A column-vector y was passed when a 1d array was expected. Please change the shape of y to (n_samples,), for example using ravel().\n",
      "  return fit_method(estimator, *args, **kwargs)\n",
      "2024/12/11 11:41:58 WARNING mlflow.models.model: Model logged without a signature and input example. Please set `input_example` parameter when logging the model to auto infer the model signature.\n"
     ]
    },
    {
     "name": "stdout",
     "output_type": "stream",
     "text": [
      "🏃 View run fun-pig-376 at: http://localhost:5000/#/experiments/0/runs/661c3ce97da34c9d88f54001832ea21f\n",
      "🧪 View experiment at: http://localhost:5000/#/experiments/0\n",
      "Run with params {'max_depth': 20, 'min_samples_leaf': 1, 'min_samples_split': 2, 'n_estimators': 50} saved in http://localhost:5000\n"
     ]
    },
    {
     "name": "stderr",
     "output_type": "stream",
     "text": [
      "c:\\Users\\niman\\Miniconda3\\envs\\tf_env\\lib\\site-packages\\sklearn\\base.py:1473: DataConversionWarning: A column-vector y was passed when a 1d array was expected. Please change the shape of y to (n_samples,), for example using ravel().\n",
      "  return fit_method(estimator, *args, **kwargs)\n",
      "2024/12/11 11:42:09 WARNING mlflow.models.model: Model logged without a signature and input example. Please set `input_example` parameter when logging the model to auto infer the model signature.\n"
     ]
    },
    {
     "name": "stdout",
     "output_type": "stream",
     "text": [
      "🏃 View run overjoyed-cow-820 at: http://localhost:5000/#/experiments/0/runs/8fc71c74079f4edb988e952c4bdff972\n",
      "🧪 View experiment at: http://localhost:5000/#/experiments/0\n",
      "Run with params {'max_depth': 20, 'min_samples_leaf': 1, 'min_samples_split': 2, 'n_estimators': 100} saved in http://localhost:5000\n"
     ]
    },
    {
     "name": "stderr",
     "output_type": "stream",
     "text": [
      "c:\\Users\\niman\\Miniconda3\\envs\\tf_env\\lib\\site-packages\\sklearn\\base.py:1473: DataConversionWarning: A column-vector y was passed when a 1d array was expected. Please change the shape of y to (n_samples,), for example using ravel().\n",
      "  return fit_method(estimator, *args, **kwargs)\n",
      "2024/12/11 11:42:29 WARNING mlflow.models.model: Model logged without a signature and input example. Please set `input_example` parameter when logging the model to auto infer the model signature.\n"
     ]
    },
    {
     "name": "stdout",
     "output_type": "stream",
     "text": [
      "🏃 View run resilient-auk-226 at: http://localhost:5000/#/experiments/0/runs/9db6ad0ea95144959c1db59cf86c021e\n",
      "🧪 View experiment at: http://localhost:5000/#/experiments/0\n",
      "Run with params {'max_depth': 20, 'min_samples_leaf': 1, 'min_samples_split': 2, 'n_estimators': 200} saved in http://localhost:5000\n"
     ]
    },
    {
     "name": "stderr",
     "output_type": "stream",
     "text": [
      "c:\\Users\\niman\\Miniconda3\\envs\\tf_env\\lib\\site-packages\\sklearn\\base.py:1473: DataConversionWarning: A column-vector y was passed when a 1d array was expected. Please change the shape of y to (n_samples,), for example using ravel().\n",
      "  return fit_method(estimator, *args, **kwargs)\n",
      "2024/12/11 11:42:38 WARNING mlflow.models.model: Model logged without a signature and input example. Please set `input_example` parameter when logging the model to auto infer the model signature.\n"
     ]
    },
    {
     "name": "stdout",
     "output_type": "stream",
     "text": [
      "🏃 View run lyrical-grub-51 at: http://localhost:5000/#/experiments/0/runs/c01fe961136a409597da7bbec20afe57\n",
      "🧪 View experiment at: http://localhost:5000/#/experiments/0\n",
      "Run with params {'max_depth': 20, 'min_samples_leaf': 1, 'min_samples_split': 5, 'n_estimators': 50} saved in http://localhost:5000\n"
     ]
    },
    {
     "name": "stderr",
     "output_type": "stream",
     "text": [
      "c:\\Users\\niman\\Miniconda3\\envs\\tf_env\\lib\\site-packages\\sklearn\\base.py:1473: DataConversionWarning: A column-vector y was passed when a 1d array was expected. Please change the shape of y to (n_samples,), for example using ravel().\n",
      "  return fit_method(estimator, *args, **kwargs)\n",
      "2024/12/11 11:42:49 WARNING mlflow.models.model: Model logged without a signature and input example. Please set `input_example` parameter when logging the model to auto infer the model signature.\n"
     ]
    },
    {
     "name": "stdout",
     "output_type": "stream",
     "text": [
      "🏃 View run abundant-mule-209 at: http://localhost:5000/#/experiments/0/runs/71040dd628de43d295ea62085aa4bf28\n",
      "🧪 View experiment at: http://localhost:5000/#/experiments/0\n",
      "Run with params {'max_depth': 20, 'min_samples_leaf': 1, 'min_samples_split': 5, 'n_estimators': 100} saved in http://localhost:5000\n"
     ]
    },
    {
     "name": "stderr",
     "output_type": "stream",
     "text": [
      "c:\\Users\\niman\\Miniconda3\\envs\\tf_env\\lib\\site-packages\\sklearn\\base.py:1473: DataConversionWarning: A column-vector y was passed when a 1d array was expected. Please change the shape of y to (n_samples,), for example using ravel().\n",
      "  return fit_method(estimator, *args, **kwargs)\n",
      "2024/12/11 11:43:08 WARNING mlflow.models.model: Model logged without a signature and input example. Please set `input_example` parameter when logging the model to auto infer the model signature.\n"
     ]
    },
    {
     "name": "stdout",
     "output_type": "stream",
     "text": [
      "🏃 View run tasteful-wren-572 at: http://localhost:5000/#/experiments/0/runs/aa663f145cb64ceb9c7f1615459bca23\n",
      "🧪 View experiment at: http://localhost:5000/#/experiments/0\n",
      "Run with params {'max_depth': 20, 'min_samples_leaf': 1, 'min_samples_split': 5, 'n_estimators': 200} saved in http://localhost:5000\n"
     ]
    },
    {
     "name": "stderr",
     "output_type": "stream",
     "text": [
      "c:\\Users\\niman\\Miniconda3\\envs\\tf_env\\lib\\site-packages\\sklearn\\base.py:1473: DataConversionWarning: A column-vector y was passed when a 1d array was expected. Please change the shape of y to (n_samples,), for example using ravel().\n",
      "  return fit_method(estimator, *args, **kwargs)\n",
      "2024/12/11 11:43:16 WARNING mlflow.models.model: Model logged without a signature and input example. Please set `input_example` parameter when logging the model to auto infer the model signature.\n"
     ]
    },
    {
     "name": "stdout",
     "output_type": "stream",
     "text": [
      "🏃 View run nimble-ant-938 at: http://localhost:5000/#/experiments/0/runs/5100f14363aa4068a7257019f8896fdd\n",
      "🧪 View experiment at: http://localhost:5000/#/experiments/0\n",
      "Run with params {'max_depth': 20, 'min_samples_leaf': 2, 'min_samples_split': 2, 'n_estimators': 50} saved in http://localhost:5000\n"
     ]
    },
    {
     "name": "stderr",
     "output_type": "stream",
     "text": [
      "c:\\Users\\niman\\Miniconda3\\envs\\tf_env\\lib\\site-packages\\sklearn\\base.py:1473: DataConversionWarning: A column-vector y was passed when a 1d array was expected. Please change the shape of y to (n_samples,), for example using ravel().\n",
      "  return fit_method(estimator, *args, **kwargs)\n",
      "2024/12/11 11:43:27 WARNING mlflow.models.model: Model logged without a signature and input example. Please set `input_example` parameter when logging the model to auto infer the model signature.\n"
     ]
    },
    {
     "name": "stdout",
     "output_type": "stream",
     "text": [
      "🏃 View run abrasive-crow-441 at: http://localhost:5000/#/experiments/0/runs/e3f37a14dd2d48f999cfcd7d865af4d0\n",
      "🧪 View experiment at: http://localhost:5000/#/experiments/0\n",
      "Run with params {'max_depth': 20, 'min_samples_leaf': 2, 'min_samples_split': 2, 'n_estimators': 100} saved in http://localhost:5000\n"
     ]
    },
    {
     "name": "stderr",
     "output_type": "stream",
     "text": [
      "c:\\Users\\niman\\Miniconda3\\envs\\tf_env\\lib\\site-packages\\sklearn\\base.py:1473: DataConversionWarning: A column-vector y was passed when a 1d array was expected. Please change the shape of y to (n_samples,), for example using ravel().\n",
      "  return fit_method(estimator, *args, **kwargs)\n",
      "2024/12/11 11:43:46 WARNING mlflow.models.model: Model logged without a signature and input example. Please set `input_example` parameter when logging the model to auto infer the model signature.\n"
     ]
    },
    {
     "name": "stdout",
     "output_type": "stream",
     "text": [
      "🏃 View run secretive-hen-1000 at: http://localhost:5000/#/experiments/0/runs/cf8b59b9598f41b7af75afd8bb17ca0d\n",
      "🧪 View experiment at: http://localhost:5000/#/experiments/0\n",
      "Run with params {'max_depth': 20, 'min_samples_leaf': 2, 'min_samples_split': 2, 'n_estimators': 200} saved in http://localhost:5000\n"
     ]
    },
    {
     "name": "stderr",
     "output_type": "stream",
     "text": [
      "c:\\Users\\niman\\Miniconda3\\envs\\tf_env\\lib\\site-packages\\sklearn\\base.py:1473: DataConversionWarning: A column-vector y was passed when a 1d array was expected. Please change the shape of y to (n_samples,), for example using ravel().\n",
      "  return fit_method(estimator, *args, **kwargs)\n",
      "2024/12/11 11:43:55 WARNING mlflow.models.model: Model logged without a signature and input example. Please set `input_example` parameter when logging the model to auto infer the model signature.\n"
     ]
    },
    {
     "name": "stdout",
     "output_type": "stream",
     "text": [
      "🏃 View run peaceful-boar-938 at: http://localhost:5000/#/experiments/0/runs/320a172f662c4f9c9dd47bc9a78e9ed1\n",
      "🧪 View experiment at: http://localhost:5000/#/experiments/0\n",
      "Run with params {'max_depth': 20, 'min_samples_leaf': 2, 'min_samples_split': 5, 'n_estimators': 50} saved in http://localhost:5000\n"
     ]
    },
    {
     "name": "stderr",
     "output_type": "stream",
     "text": [
      "c:\\Users\\niman\\Miniconda3\\envs\\tf_env\\lib\\site-packages\\sklearn\\base.py:1473: DataConversionWarning: A column-vector y was passed when a 1d array was expected. Please change the shape of y to (n_samples,), for example using ravel().\n",
      "  return fit_method(estimator, *args, **kwargs)\n",
      "2024/12/11 11:44:06 WARNING mlflow.models.model: Model logged without a signature and input example. Please set `input_example` parameter when logging the model to auto infer the model signature.\n"
     ]
    },
    {
     "name": "stdout",
     "output_type": "stream",
     "text": [
      "🏃 View run silent-conch-368 at: http://localhost:5000/#/experiments/0/runs/8bcc3c002ee940378ecbbd599f8a6d3b\n",
      "🧪 View experiment at: http://localhost:5000/#/experiments/0\n",
      "Run with params {'max_depth': 20, 'min_samples_leaf': 2, 'min_samples_split': 5, 'n_estimators': 100} saved in http://localhost:5000\n"
     ]
    },
    {
     "name": "stderr",
     "output_type": "stream",
     "text": [
      "c:\\Users\\niman\\Miniconda3\\envs\\tf_env\\lib\\site-packages\\sklearn\\base.py:1473: DataConversionWarning: A column-vector y was passed when a 1d array was expected. Please change the shape of y to (n_samples,), for example using ravel().\n",
      "  return fit_method(estimator, *args, **kwargs)\n",
      "2024/12/11 11:44:25 WARNING mlflow.models.model: Model logged without a signature and input example. Please set `input_example` parameter when logging the model to auto infer the model signature.\n"
     ]
    },
    {
     "name": "stdout",
     "output_type": "stream",
     "text": [
      "🏃 View run rebellious-goose-94 at: http://localhost:5000/#/experiments/0/runs/9cb0b3d380eb4eca805062c66be27b2e\n",
      "🧪 View experiment at: http://localhost:5000/#/experiments/0\n",
      "Run with params {'max_depth': 20, 'min_samples_leaf': 2, 'min_samples_split': 5, 'n_estimators': 200} saved in http://localhost:5000\n"
     ]
    }
   ],
   "source": [
    "\n",
    "import mlflow\n",
    "import mlflow.sklearn\n",
    "import matplotlib.pyplot as plt\n",
    "import seaborn as sns\n",
    "from sklearn.metrics import classification_report, confusion_matrix, roc_auc_score, accuracy_score\n",
    "from sklearn.metrics import roc_curve\n",
    "from sklearn.model_selection import ParameterGrid\n",
    "import os\n",
    "\n",
    "param_grid = [\n",
    "    {'n_estimators': [50, 100, 200],\n",
    "    'max_depth': [None, 10, 20],\n",
    "    'min_samples_split': [2, 5],\n",
    "    'min_samples_leaf': [1, 2]} \n",
    "]\n",
    "\n",
    "grid = list(ParameterGrid(param_grid))\n",
    "for params in grid:\n",
    "    with mlflow.start_run() as run2:\n",
    "\n",
    "        rf = RandomForestClassifier(\n",
    "            n_estimators=params['n_estimators'],\n",
    "            max_depth=params['max_depth'],\n",
    "            min_samples_split=params['min_samples_split'],\n",
    "            min_samples_leaf=params['min_samples_leaf'],\n",
    "            random_state=42\n",
    "        )\n",
    "\n",
    "        rf.fit(x_train_top, y_train_subset)\n",
    "        y_pred = rf.predict(x_test_top)\n",
    "        \n",
    "        mlflow.log_param(\"n_estimators\", params['n_estimators'])\n",
    "        mlflow.log_param(\"max_depth\", params['max_depth'])\n",
    "        mlflow.log_param(\"min_samples_split\", params['min_samples_split'])\n",
    "        mlflow.log_param(\"min_samples_leaf\", params['min_samples_leaf'])\n",
    "        \n",
    "        \n",
    "        \n",
    "        accuracy = accuracy_score(y_test_subset, y_pred)\n",
    "        auc_score = roc_auc_score(y_test_subset, rf.predict_proba(x_test_top), multi_class='ovr')\n",
    "        mlflow.log_metric(\"accuracy\", accuracy)\n",
    "        mlflow.log_metric(\"auc_score\", auc_score)\n",
    "        \n",
    "        \n",
    "        mlflow.sklearn.log_model(rf, artifact_path=\"Random_Forest_Model\")\n",
    "        \n",
    "        \n",
    "        report = classification_report(y_test_subset, y_pred, output_dict=False)\n",
    "        report_path = \"classification_report.txt\"\n",
    "        with open(report_path, \"w\") as f:\n",
    "            f.write(report)\n",
    "        mlflow.log_artifact(report_path)\n",
    "        \n",
    "        \n",
    "        cm = confusion_matrix(y_test_subset, y_pred)\n",
    "        plt.figure(figsize=(10, 7))\n",
    "        sns.heatmap(cm, annot=True, fmt='d', cmap='Blues', xticklabels=np.unique(y_test_subset), yticklabels=np.unique(y_test_subset))\n",
    "        plt.xlabel(\"Predicted\")\n",
    "        plt.ylabel(\"True\")\n",
    "        plt.title(\"Confusion Matrix\")\n",
    "        cm_path = \"confusion_matrix.png\"\n",
    "        plt.savefig(cm_path)\n",
    "        mlflow.log_artifact(cm_path)\n",
    "        plt.close()\n",
    "        \n",
    "        \n",
    "        plt.figure(figsize=(10, 7))\n",
    "        for i in range(len(rf.classes_)):\n",
    "            fpr, tpr, _ = roc_curve(y_test_subset == i, rf.predict_proba(x_test_top)[:, i])\n",
    "            plt.plot(fpr, tpr, label=f'Class {i}')\n",
    "        plt.plot([0, 1], [0, 1], 'k--')\n",
    "        plt.xlabel('False Positive Rate')\n",
    "        plt.ylabel('True Positive Rate')\n",
    "        plt.title('ROC Curve')\n",
    "        plt.legend(loc='lower right')\n",
    "        roc_path = \"roc_curve.png\"\n",
    "        plt.savefig(roc_path)\n",
    "        mlflow.log_artifact(roc_path)\n",
    "        plt.close()\n",
    "\n",
    "    print(f\"Run with params {params} saved in {mlflow.get_tracking_uri()}\")\n",
    "\n",
    "\n"
   ]
  },
  {
   "cell_type": "markdown",
   "metadata": {},
   "source": [
    "Model registration"
   ]
  },
  {
   "cell_type": "code",
   "execution_count": null,
   "metadata": {},
   "outputs": [
    {
     "name": "stderr",
     "output_type": "stream",
     "text": [
      "Registered model 'Random_Forest' already exists. Creating a new version of this model...\n",
      "2024/12/11 11:44:36 INFO mlflow.store.model_registry.abstract_store: Waiting up to 300 seconds for model version to finish creation. Model name: Random_Forest, version 3\n"
     ]
    },
    {
     "name": "stdout",
     "output_type": "stream",
     "text": [
      "Model registered with name: Random_Forest and version: 3\n"
     ]
    },
    {
     "name": "stderr",
     "output_type": "stream",
     "text": [
      "Created version '3' of model 'Random_Forest'.\n"
     ]
    }
   ],
   "source": [
    "\n",
    "model_uri = f\"runs:/{run2.info.run_id}/Random_Forest_Model\"\n",
    "registered_model_name = \"Random_Forest\"\n",
    "\n",
    "    \n",
    "registered_model = mlflow.register_model(model_uri=model_uri, name=\"Random_Forest\")\n",
    "    \n",
    "print(f\"Model registered with name: {registered_model_name} and version: {registered_model.version}\")"
   ]
  },
  {
   "cell_type": "code",
   "execution_count": 97,
   "metadata": {},
   "outputs": [
    {
     "name": "stderr",
     "output_type": "stream",
     "text": [
      "Registered model 'SVM_mdl_cifar' already exists. Creating a new version of this model...\n",
      "2024/12/11 16:22:18 INFO mlflow.store.model_registry.abstract_store: Waiting up to 300 seconds for model version to finish creation. Model name: SVM_mdl_cifar, version 5\n"
     ]
    },
    {
     "name": "stdout",
     "output_type": "stream",
     "text": [
      "Model registered with name: SVM_mdl_cifar and version: 5\n"
     ]
    },
    {
     "name": "stderr",
     "output_type": "stream",
     "text": [
      "Created version '5' of model 'SVM_mdl_cifar'.\n"
     ]
    }
   ],
   "source": [
    "model_uri = f\"runs:/{run1.info.run_id}/SVM_mdl_cifar\"\n",
    "registered_model_name = \"SVM_mdl_cifar\"\n",
    "\n",
    "    \n",
    "registered_model = mlflow.register_model(model_uri=model_uri, name=\"SVM_mdl_cifar\")\n",
    "    \n",
    "print(f\"Model registered with name: {registered_model_name} and version: {registered_model.version}\")"
   ]
  },
  {
   "cell_type": "code",
   "execution_count": 35,
   "metadata": {},
   "outputs": [
    {
     "name": "stderr",
     "output_type": "stream",
     "text": [
      "Registered model 'CNN_mdl_cifar' already exists. Creating a new version of this model...\n",
      "2024/12/11 13:07:59 INFO mlflow.store.model_registry.abstract_store: Waiting up to 300 seconds for model version to finish creation. Model name: CNN_mdl_cifar, version 2\n"
     ]
    },
    {
     "name": "stdout",
     "output_type": "stream",
     "text": [
      "Model registered with name: CNN_mdl_cifar and version: 2\n"
     ]
    },
    {
     "name": "stderr",
     "output_type": "stream",
     "text": [
      "Created version '2' of model 'CNN_mdl_cifar'.\n"
     ]
    }
   ],
   "source": [
    "model_uri = f\"runs:/{run3.info.run_id}/CNN_mdl_cifar\"\n",
    "registered_model_name = \"CNN_mdl_cifar\"\n",
    "\n",
    "    \n",
    "registered_model = mlflow.register_model(model_uri=model_uri, name=\"CNN_mdl_cifar\")\n",
    "    \n",
    "print(f\"Model registered with name: {registered_model_name} and version: {registered_model.version}\")"
   ]
  },
  {
   "cell_type": "code",
   "execution_count": 42,
   "metadata": {},
   "outputs": [],
   "source": [
    "# mlflow server --backend-store-uri sqlite:///mlflow.db --default-artifact-root file:///C:/Users/niman/OneDrive/Desktop/TP_Process/mlruns --host 127.0.0.1 --port 5000\n",
    "#  $env:MLFLOW_TRACKING_URI = \"http://localhost:5000\""
   ]
  },
  {
   "cell_type": "markdown",
   "metadata": {},
   "source": [
    "### Request for SVM Model"
   ]
  },
  {
   "cell_type": "code",
   "execution_count": 99,
   "metadata": {},
   "outputs": [
    {
     "name": "stdout",
     "output_type": "stream",
     "text": [
      "Prediction: {'predictions': [3]}\n"
     ]
    }
   ],
   "source": [
    "import requests\n",
    "import json\n",
    "\n",
    "def preprocess_image(image):\n",
    "    \n",
    "    gray_image = color.rgb2gray(image)\n",
    "    fd, _ = hog(gray_image, orientations=9, pixels_per_cell=(8, 8), cells_per_block=(2, 2), visualize=True)\n",
    "    return fd\n",
    "\n",
    "\n",
    "single_image = x_test[5]  \n",
    "hog_features = preprocess_image(single_image)\n",
    "\n",
    "\n",
    "data = {\n",
    "    \"dataframe_records\": [\n",
    "        {\n",
    "            f\"feature_{i}\": value for i, value in enumerate(hog_features)\n",
    "        }\n",
    "    ]\n",
    "}\n",
    "\n",
    "\n",
    "response = requests.post(\"http://localhost:1234/invocations\", json=data)\n",
    "\n",
    "\n",
    "if response.status_code == 200:\n",
    "    print(\"Prediction:\", response.json())\n",
    "else:\n",
    "    print(\"Error:\", response.status_code, response.text)"
   ]
  },
  {
   "cell_type": "markdown",
   "metadata": {},
   "source": [
    "### Resquest for CNN Model"
   ]
  },
  {
   "cell_type": "code",
   "execution_count": null,
   "metadata": {},
   "outputs": [
    {
     "name": "stdout",
     "output_type": "stream",
     "text": [
      "Prediction (class index): 0\n",
      "LA classe : 0\n"
     ]
    }
   ],
   "source": [
    "single_image = x_test[10]  \n",
    "preprocessed_image = single_image.astype(\"float32\") / 255.0  \n",
    "\n",
    "\n",
    "data = {\n",
    "    \"instances\": [preprocessed_image.tolist()]  \n",
    "}\n",
    "\n",
    "\n",
    "response = requests.post(\"http://localhost:1234/invocations\", json=data)\n",
    "\n",
    "\n",
    "if response.status_code == 200:\n",
    "    predictions = response.json()\n",
    "    predicted_class_index = np.argmax(predictions)  \n",
    "    print(\"Prediction (class index):\", predicted_class_index)\n",
    "    print(\"LA classe :\",y_test[10][0])\n",
    "else:\n",
    "    print(\"Error:\", response.status_code, response.text)\n",
    "   "
   ]
  },
  {
   "cell_type": "code",
   "execution_count": null,
   "metadata": {},
   "outputs": [],
   "source": []
  }
 ],
 "metadata": {
  "kernelspec": {
   "display_name": "tf_env",
   "language": "python",
   "name": "python3"
  },
  "language_info": {
   "codemirror_mode": {
    "name": "ipython",
    "version": 3
   },
   "file_extension": ".py",
   "mimetype": "text/x-python",
   "name": "python",
   "nbconvert_exporter": "python",
   "pygments_lexer": "ipython3",
   "version": "3.9.18"
  }
 },
 "nbformat": 4,
 "nbformat_minor": 2
}
