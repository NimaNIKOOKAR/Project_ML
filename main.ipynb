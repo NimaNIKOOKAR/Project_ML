{
 "cells": [
  {
   "cell_type": "code",
   "execution_count": 4,
   "id": "initial_id",
   "metadata": {
    "ExecuteTime": {
     "end_time": "2024-12-03T19:43:50.148285Z",
     "start_time": "2024-12-03T19:43:49.849166Z"
    },
    "collapsed": true
   },
   "outputs": [
    {
     "name": "stdout",
     "output_type": "stream",
     "text": [
      "Loaded batch from cifar-10-batches-py/test_batch\n",
      "Image data shape: (10000, 32, 32, 3)\n",
      "First 10 labels: [3, 8, 8, 0, 6, 6, 1, 6, 3, 1]\n"
     ]
    }
   ],
   "source": [
    "import pickle\n",
    "import numpy as np\n",
    "\n",
    "def load_cifar10_batch(file_path):\n",
    "    \"\"\"\n",
    "    Loads a single batch from the CIFAR-10 dataset.\n",
    "\n",
    "    Args:\n",
    "        file_path (str): Path to the CIFAR-10 batch file.\n",
    "\n",
    "    Returns:\n",
    "        tuple: A tuple containing:\n",
    "            - images (numpy.ndarray): Array of shape (10000, 32, 32, 3) with RGB images.\n",
    "            - labels (list): List of labels corresponding to the images.\n",
    "    \"\"\"\n",
    "    try:\n",
    "        \n",
    "        with open(file_path, 'rb') as file:\n",
    "            data_dict = pickle.load(file, encoding='bytes')\n",
    "        \n",
    "        \n",
    "        images = data_dict[b'data']  \n",
    "        labels = data_dict[b'labels']  \n",
    "        \n",
    "        \n",
    "        images = images.reshape(-1, 3, 32, 32).transpose(0, 2, 3, 1)\n",
    "        \n",
    "        return images, labels\n",
    "    \n",
    "    except FileNotFoundError:\n",
    "        print(f\"Error: File not found at {file_path}\")\n",
    "    except Exception as e:\n",
    "        print(f\"An error occurred: {e}\")\n",
    "\n",
    "# Example usage\n",
    "if __name__ == \"__main__\":\n",
    "    \n",
    "    batch_file_path = \"cifar-10-batches-py/test_batch\"\n",
    "    \n",
    "    images, labels = load_cifar10_batch(batch_file_path)\n",
    "    \n",
    "    if images is not None and labels is not None:\n",
    "        print(f\"Loaded batch from {batch_file_path}\")\n",
    "        print(f\"Image data shape: {images.shape}\") \n",
    "        print(f\"First 10 labels: {labels[:10]}\")"
   ]
  },
  {
   "cell_type": "code",
   "execution_count": 5,
   "id": "abe02e88c7dcdeb6",
   "metadata": {
    "ExecuteTime": {
     "end_time": "2024-12-03T19:46:10.215879Z",
     "start_time": "2024-12-03T19:46:02.133234Z"
    }
   },
   "outputs": [
    {
     "name": "stdout",
     "output_type": "stream",
     "text": [
      "Data saved to cifar10_data_test.csv\n"
     ]
    }
   ],
   "source": [
    "import csv\n",
    "\n",
    "def save_cifar10_to_csv(images, labels, csv_file_path):\n",
    "    \"\"\"\n",
    "    Saves CIFAR-10 images and labels as a CSV file.\n",
    "\n",
    "    Args:\n",
    "        images (numpy.ndarray): Array of shape (N, 32, 32, 3) containing image data.\n",
    "        labels (list): List of labels corresponding to the images.\n",
    "        csv_file_path (str): Path to save the CSV file.\n",
    "\n",
    "    Returns:\n",
    "        None\n",
    "    \"\"\"\n",
    "    \n",
    "    flattened_images = images.reshape(images.shape[0], -1)\n",
    "\n",
    "    \n",
    "    data = [list(row) + [label] for row, label in zip(flattened_images, labels)]\n",
    "\n",
    "    \n",
    "    with open(csv_file_path, mode='w', newline='') as file:\n",
    "        writer = csv.writer(file)\n",
    "        writer.writerow([\"pixel_\" + str(i) for i in range(flattened_images.shape[1])] + [\"label\"])  # Header\n",
    "        writer.writerows(data)\n",
    "\n",
    "    print(f\"Data saved to {csv_file_path}\")\n",
    "\n",
    "\n",
    "if __name__ == \"__main__\":\n",
    "    images, labels = load_cifar10_batch(\"cifar-10-batches-py/test_batch\")\n",
    "    save_cifar10_to_csv(images, labels, \"cifar10_data_test.csv\")\n"
   ]
  },
  {
   "cell_type": "code",
   "execution_count": null,
   "id": "e552a576c75646df",
   "metadata": {
    "ExecuteTime": {
     "end_time": "2024-12-03T19:52:32.568910Z",
     "start_time": "2024-12-03T19:52:20.376996Z"
    }
   },
   "outputs": [
    {
     "name": "stdout",
     "output_type": "stream",
     "text": [
      "Saved image_0_label_3.png\n",
      "Saved image_1_label_8.png\n",
      "Saved image_2_label_8.png\n",
      "Saved image_3_label_0.png\n",
      "Saved image_4_label_6.png\n",
      "Saved image_5_label_6.png\n",
      "Saved image_6_label_1.png\n",
      "Saved image_7_label_6.png\n",
      "Saved image_8_label_3.png\n",
      "Saved image_9_label_1.png\n",
      "Images saved in output_images\n"
     ]
    }
   ],
   "source": [
    "from PIL import Image\n",
    "import os\n",
    "\n",
    "def save_images_from_cifar10(images, labels, output_dir):\n",
    "    \"\"\"\n",
    "    Saves CIFAR-10 images as PNG files.\n",
    "\n",
    "    Args:\n",
    "        images (numpy.ndarray): Array of shape (N, 32, 32, 3) containing image data.\n",
    "        labels (list): List of labels corresponding to the images.\n",
    "        output_dir (str): Directory to save the images.\n",
    "\n",
    "    Returns:\n",
    "        None\n",
    "    \"\"\"\n",
    "    os.makedirs(output_dir, exist_ok=True)\n",
    "\n",
    "    for idx, (image, label) in enumerate(zip(images, labels)):\n",
    "        \n",
    "        img = Image.fromarray(image)\n",
    "        \n",
    "        \n",
    "        img.save(os.path.join(output_dir, f\"image_{idx}_label_{label}.png\"))\n",
    "\n",
    "        \n",
    "        if idx < 10:  \n",
    "            print(f\"Saved image_{idx}_label_{label}.png\")\n",
    "    \n",
    "    print(f\"Images saved in {output_dir}\")\n",
    "\n",
    "\n",
    "if __name__ == \"__main__\":\n",
    "    images, labels = load_cifar10_batch(\"cifar-10-batches-py/test_batch\")\n",
    "    save_images_from_cifar10(images, labels, \"output_images\")\n"
   ]
  },
  {
   "cell_type": "code",
   "execution_count": null,
   "id": "a2fc3e619625b75d",
   "metadata": {},
   "outputs": [],
   "source": []
  }
 ],
 "metadata": {
  "kernelspec": {
   "display_name": "tf_env",
   "language": "python",
   "name": "python3"
  },
  "language_info": {
   "codemirror_mode": {
    "name": "ipython",
    "version": 3
   },
   "file_extension": ".py",
   "mimetype": "text/x-python",
   "name": "python",
   "nbconvert_exporter": "python",
   "pygments_lexer": "ipython3",
   "version": "3.9.20"
  }
 },
 "nbformat": 4,
 "nbformat_minor": 5
}
